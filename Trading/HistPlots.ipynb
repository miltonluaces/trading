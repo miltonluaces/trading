{
 "cells": [
  {
   "cell_type": "code",
   "execution_count": 1,
   "metadata": {},
   "outputs": [],
   "source": [
    "from Trading.Funds.HistPlotly import GetPlot\n",
    "import plotly.plotly as py\n",
    "from Trading.Funds.DBMgr import DBMgr\n",
    "import IPython.display\n",
    "from IPython.display import IFrame\n",
    "import numpy as np\n",
    "import pandas as pd\n",
    "import matplotlib.pyplot as plt\n",
    "import matplotlib.dates as mdates\n",
    "%matplotlib inline\n",
    "import seaborn as sb; sb.set()\n",
    "from Trading.Funds.VisualFunds import VisualFunds\n",
    "from Trading.Funds.DBMgr import DBMgr"
   ]
  },
  {
   "cell_type": "code",
   "execution_count": null,
   "metadata": {},
   "outputs": [],
   "source": [
    "db = DBMgr()\n",
    "iic = db.GetInvestIsinNames(1)[0:5]\n",
    "#for i in range(len(iic)):\n",
    "i=1\n",
    "fig = GetPlot(iic[i][0], iic[i][1])\n",
    "IPython.display.IFrame(fig, 16, 20)\n",
    "py.iplot(fig)"
   ]
  },
  {
   "cell_type": "code",
   "execution_count": null,
   "metadata": {},
   "outputs": [],
   "source": []
  }
 ],
 "metadata": {
  "kernelspec": {
   "display_name": "Python 3",
   "language": "python",
   "name": "python3"
  },
  "language_info": {
   "codemirror_mode": {
    "name": "ipython",
    "version": 3
   },
   "file_extension": ".py",
   "mimetype": "text/x-python",
   "name": "python",
   "nbconvert_exporter": "python",
   "pygments_lexer": "ipython3",
   "version": "3.6.6"
  }
 },
 "nbformat": 4,
 "nbformat_minor": 2
}
