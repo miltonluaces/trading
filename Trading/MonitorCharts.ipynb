{
 "cells": [
  {
   "cell_type": "code",
   "execution_count": 1,
   "metadata": {
    "collapsed": false,
    "jupyter": {
     "outputs_hidden": false
    }
   },
   "outputs": [
    {
     "ename": "ModuleNotFoundError",
     "evalue": "No module named 'Trading'",
     "output_type": "error",
     "traceback": [
      "\u001b[1;31m---------------------------------------------------------------------------\u001b[0m",
      "\u001b[1;31mModuleNotFoundError\u001b[0m                       Traceback (most recent call last)",
      "\u001b[1;32m<ipython-input-1-ff6506a8f40c>\u001b[0m in \u001b[0;36m<module>\u001b[1;34m\u001b[0m\n\u001b[0;32m     20\u001b[0m \u001b[1;32mfrom\u001b[0m \u001b[0mtrading\u001b[0m\u001b[1;33m.\u001b[0m\u001b[0mFunds\u001b[0m\u001b[1;33m.\u001b[0m\u001b[0mMonitor\u001b[0m \u001b[1;32mimport\u001b[0m \u001b[1;33m*\u001b[0m\u001b[1;33m\u001b[0m\u001b[1;33m\u001b[0m\u001b[0m\n\u001b[0;32m     21\u001b[0m \u001b[1;32mfrom\u001b[0m \u001b[0mtrading\u001b[0m\u001b[1;33m.\u001b[0m\u001b[0mFunds\u001b[0m\u001b[1;33m.\u001b[0m\u001b[0mVisualFunds\u001b[0m \u001b[1;32mimport\u001b[0m \u001b[0mVisualFunds\u001b[0m\u001b[1;33m\u001b[0m\u001b[1;33m\u001b[0m\u001b[0m\n\u001b[1;32m---> 22\u001b[1;33m \u001b[1;32mfrom\u001b[0m \u001b[0mtrading\u001b[0m\u001b[1;33m.\u001b[0m\u001b[0mJLUtilities\u001b[0m\u001b[1;33m.\u001b[0m\u001b[0mDailyTrading\u001b[0m \u001b[1;32mimport\u001b[0m \u001b[1;33m*\u001b[0m\u001b[1;33m\u001b[0m\u001b[1;33m\u001b[0m\u001b[0m\n\u001b[0m",
      "\u001b[1;32mD:\\source\\repos\\trading\\JLUtilities\\DailyTrading.py\u001b[0m in \u001b[0;36m<module>\u001b[1;34m\u001b[0m\n\u001b[0;32m     10\u001b[0m \u001b[1;32mimport\u001b[0m \u001b[0myahoo_fin\u001b[0m\u001b[1;33m.\u001b[0m\u001b[0mstock_info\u001b[0m \u001b[1;32mas\u001b[0m \u001b[0myfs\u001b[0m\u001b[1;33m\u001b[0m\u001b[1;33m\u001b[0m\u001b[0m\n\u001b[0;32m     11\u001b[0m \u001b[1;32mimport\u001b[0m \u001b[0myahoo_finance\u001b[0m \u001b[1;32mas\u001b[0m \u001b[0myf\u001b[0m\u001b[1;33m\u001b[0m\u001b[1;33m\u001b[0m\u001b[0m\n\u001b[1;32m---> 12\u001b[1;33m \u001b[1;32mimport\u001b[0m \u001b[0mTrading\u001b[0m\u001b[1;33m.\u001b[0m\u001b[0mFunds\u001b[0m\u001b[1;33m\u001b[0m\u001b[1;33m\u001b[0m\u001b[0m\n\u001b[0m\u001b[0;32m     13\u001b[0m \u001b[1;32mfrom\u001b[0m \u001b[0malpha_vantage\u001b[0m\u001b[1;33m.\u001b[0m\u001b[0mtimeseries\u001b[0m \u001b[1;32mimport\u001b[0m \u001b[0mTimeSeries\u001b[0m\u001b[1;33m\u001b[0m\u001b[1;33m\u001b[0m\u001b[0m\n\u001b[0;32m     14\u001b[0m \u001b[1;32mfrom\u001b[0m \u001b[0mTrading\u001b[0m\u001b[1;33m.\u001b[0m\u001b[0mFunds\u001b[0m\u001b[1;33m.\u001b[0m\u001b[0mFundReader\u001b[0m \u001b[1;32mimport\u001b[0m \u001b[0mFundReader\u001b[0m\u001b[1;33m\u001b[0m\u001b[1;33m\u001b[0m\u001b[0m\n",
      "\u001b[1;31mModuleNotFoundError\u001b[0m: No module named 'Trading'"
     ]
    }
   ],
   "source": [
    "import os\n",
    "os.chdir('D:/source/repos')\n",
    "os.getcwd()\n",
    "\n",
    "\n",
    "import numpy as np\n",
    "import yahoo_fin.stock_info as yfs\n",
    "import yahoo_finance as yf\n",
    "import pandas as pd\n",
    "import matplotlib.pyplot as plt\n",
    "import seaborn as sb; sb.set()\n",
    "import trading.Funds\n",
    "#from alpha_vantage.timeseries import TimeSeries\n",
    "import matplotlib.pyplot as plt\n",
    "import datetime as dt\n",
    "import sys\n",
    "import time\n",
    "from trading.Funds.FundReader import FundReader\n",
    "from trading.Funds.DBMgr import DBMgr\n",
    "from trading.Funds.Monitor import *\n",
    "from trading.Funds.VisualFunds import VisualFunds\n",
    "from trading.JLUtilities.DailyTrading import *"
   ]
  },
  {
   "cell_type": "code",
   "execution_count": null,
   "metadata": {
    "collapsed": false,
    "jupyter": {
     "outputs_hidden": false
    },
    "tags": []
   },
   "outputs": [],
   "source": [
    "Initialize()\n",
    "print( dt.datetime.now().strftime('%Y-%m-%d'))"
   ]
  },
  {
   "cell_type": "markdown",
   "metadata": {},
   "source": [
    "## Funds"
   ]
  },
  {
   "cell_type": "code",
   "execution_count": null,
   "metadata": {
    "collapsed": false,
    "jupyter": {
     "outputs_hidden": false
    }
   },
   "outputs": [],
   "source": [
    "vf.GetQueryRes(\"SELECT * FROM investView() WHERE asset = 'F' ORDER BY reldiffamount desc\")"
   ]
  },
  {
   "cell_type": "code",
   "execution_count": null,
   "metadata": {
    "collapsed": false,
    "jupyter": {
     "outputs_hidden": false
    }
   },
   "outputs": [],
   "source": [
    "#ShowInvCharts()"
   ]
  },
  {
   "cell_type": "markdown",
   "metadata": {},
   "source": [
    "## Stocks"
   ]
  },
  {
   "cell_type": "code",
   "execution_count": null,
   "metadata": {
    "collapsed": false,
    "jupyter": {
     "outputs_hidden": false
    }
   },
   "outputs": [],
   "source": [
    "vf = VisualFunds()\n",
    "vf.GetQueryRes(\"SELECT * FROM investView() WHERE asset = 'S' ORDER BY reldiffamount desc\")"
   ]
  },
  {
   "cell_type": "code",
   "execution_count": null,
   "metadata": {
    "collapsed": false,
    "jupyter": {
     "outputs_hidden": false
    }
   },
   "outputs": [],
   "source": [
    "from Trading.JLUtilities.DailyTrading import Stock_chart\n",
    "\n",
    "vf = VisualFunds()\n",
    "stocks = vf.GetQueryRes(\"SELECT isin FROM investView() WHERE asset = 'S'\")\n",
    "for i in range(stocks.shape[0]):\n",
    "    Stock_chart(stocks.iloc[i]['isin'])"
   ]
  },
  {
   "cell_type": "markdown",
   "metadata": {},
   "source": [
    "## Options"
   ]
  },
  {
   "cell_type": "code",
   "execution_count": null,
   "metadata": {
    "collapsed": false,
    "jupyter": {
     "outputs_hidden": false
    }
   },
   "outputs": [],
   "source": [
    "vf.GetQueryRes(\"SELECT ticker, asset, type, purchvalue, purchamount, currvalue, curramount, diff, reldiff, strike, idm, exercise, broker FROM option\")"
   ]
  },
  {
   "cell_type": "code",
   "execution_count": null,
   "metadata": {
    "collapsed": false,
    "jupyter": {
     "outputs_hidden": false
    }
   },
   "outputs": [],
   "source": [
    "options = vf.GetQueryRes(\"SELECT ticker FROM option\")\n",
    "for i in range(options.shape[0]):\n",
    "    Stock_chart(options.iloc[i]['ticker'])"
   ]
  }
 ],
 "metadata": {
  "kernelspec": {
   "display_name": "Python 3",
   "language": "python",
   "name": "python3"
  },
  "language_info": {
   "codemirror_mode": {
    "name": "ipython",
    "version": 3
   },
   "file_extension": ".py",
   "mimetype": "text/x-python",
   "name": "python",
   "nbconvert_exporter": "python",
   "pygments_lexer": "ipython3",
   "version": "3.8.1"
  }
 },
 "nbformat": 4,
 "nbformat_minor": 4
}
