{
 "cells": [
  {
   "cell_type": "markdown",
   "metadata": {},
   "source": [
    "# Monitor Web charts"
   ]
  },
  {
   "cell_type": "code",
   "execution_count": null,
   "metadata": {},
   "outputs": [],
   "source": [
    "import sys\n",
    "sys.path.append('D:/source/repos')\n",
    "from utilities.std_imports import *\n",
    "from trading.Funds.FundReader import FundReader\n",
    "from trading.Funds.VisualFunds import VisualFunds\n",
    "from trading.Funds.Monitor import ShowInvCharts, ShowInvFTCharts\n",
    "from trading.utils.DailyTrading import Stock_chart\n",
    "from trading.Stocks.exchange import Exchange"
   ]
  },
  {
   "cell_type": "markdown",
   "metadata": {},
   "source": [
    "## Load data"
   ]
  },
  {
   "cell_type": "code",
   "execution_count": null,
   "metadata": {},
   "outputs": [],
   "source": [
    "fr = FundReader()\n",
    "vf = VisualFunds()\n",
    "#ShowInvCharts()\n",
    "#ShowInvFTCharts()"
   ]
  },
  {
   "cell_type": "code",
   "execution_count": null,
   "metadata": {},
   "outputs": [],
   "source": [
    "monitor = fr.GetFundsDf('D:/Invest/Funds/Monitor.xlsx')\n",
    "monitorDf = monitor.replace(np.nan, '')\n",
    "monitorDf"
   ]
  },
  {
   "cell_type": "code",
   "execution_count": null,
   "metadata": {},
   "outputs": [],
   "source": [
    "ml = fr.get_monitor_lists(monitor)\n",
    "print('\\nfund buy\\n',   ml['fund_buy'])\n",
    "print('\\nfund sell\\n',  ml['fund_sell'])\n",
    "print('\\nstock buy\\n',  ml['stock_buy'])\n",
    "print('\\nstock sell\\n', ml[ 'stock_sell'])"
   ]
  },
  {
   "cell_type": "markdown",
   "metadata": {},
   "source": [
    "## Funds"
   ]
  },
  {
   "cell_type": "code",
   "execution_count": null,
   "metadata": {},
   "outputs": [],
   "source": [
    "# Funds to buy\n",
    "vf.ShowFundCharts(ml['fund_buy'])\n",
    "#vf.ShowCharts(monitor.fund_buy_isin)"
   ]
  },
  {
   "cell_type": "code",
   "execution_count": null,
   "metadata": {},
   "outputs": [],
   "source": [
    "# Funds to sell\n",
    "vf.ShowFundCharts(ml['fund_sell'])\n",
    "#vf.ShowCharts(monitor.fund_sell_isin)"
   ]
  },
  {
   "cell_type": "markdown",
   "metadata": {},
   "source": [
    "## Stocks"
   ]
  },
  {
   "cell_type": "code",
   "execution_count": null,
   "metadata": {},
   "outputs": [],
   "source": [
    "# Stocks to buy\n",
    "[Stock_chart(sb, ndays=360) for sb in ml['stock_buy']]"
   ]
  },
  {
   "cell_type": "code",
   "execution_count": null,
   "metadata": {},
   "outputs": [],
   "source": [
    "# Stocks to sell\n",
    "[Stock_chart(ss, ndays=360) for ss in stock_sell]"
   ]
  },
  {
   "cell_type": "markdown",
   "metadata": {},
   "source": [
    "Stocks web chart"
   ]
  },
  {
   "cell_type": "code",
   "execution_count": null,
   "metadata": {},
   "outputs": [],
   "source": [
    "ex = Exchange()\n",
    "ex.load_exchange()"
   ]
  },
  {
   "cell_type": "code",
   "execution_count": null,
   "metadata": {},
   "outputs": [],
   "source": [
    "ticker = 'GOOG'\n",
    "vf.ShowTVStockChart(ticker, ex.get_exchange(ticker))"
   ]
  },
  {
   "cell_type": "code",
   "execution_count": null,
   "metadata": {},
   "outputs": [],
   "source": [
    "stock_buy = [sb for sb in ml['stock_buy'] if str(sb) != 'nan']\n",
    "stock_buy"
   ]
  },
  {
   "cell_type": "code",
   "execution_count": null,
   "metadata": {},
   "outputs": [],
   "source": [
    "[vf.ShowTVStockChart(sb, ex.get_exchange(sb)) for sb in ml['stock_buy']]"
   ]
  }
 ],
 "metadata": {
  "kernelspec": {
   "display_name": "Python 3.8.1 64-bit",
   "language": "python",
   "name": "python38164bitc33de82c9da04edea88eb124459bf44a"
  },
  "language_info": {
   "codemirror_mode": {
    "name": "ipython",
    "version": 3
   },
   "file_extension": ".py",
   "mimetype": "text/x-python",
   "name": "python",
   "nbconvert_exporter": "python",
   "pygments_lexer": "ipython3",
   "version": "3.8.6"
  }
 },
 "nbformat": 4,
 "nbformat_minor": 4
}
