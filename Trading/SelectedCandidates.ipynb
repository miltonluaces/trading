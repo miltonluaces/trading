{
 "cells": [
  {
   "cell_type": "code",
   "execution_count": null,
   "metadata": {},
   "outputs": [],
   "source": [
    "import numpy as np\n",
    "import pandas as pd\n",
    "import matplotlib.pyplot as plt\n",
    "import requests\n",
    "import datetime as dt\n",
    "import yahoo_fin.stock_info as si\n",
    "import plotly.graph_objects as go\n",
    "import plotly.express as px\n",
    "from pylab import rcParams\n",
    "from trading.utils.SelectCandidates import *\n",
    "\n",
    "rcParams['figure.figsize'] = 20, 15"
   ]
  },
  {
   "cell_type": "code",
   "execution_count": null,
   "metadata": {},
   "outputs": [],
   "source": [
    "sp500_candidates = pd.read_excel(('D:/Invest/data/stock_hist/'))\n",
    "sel_candidates = sp500_candidates[sp500_candidates['mas']==2]['ticker'].values\n",
    "sel_candidates"
   ]
  },
  {
   "cell_type": "code",
   "execution_count": null,
   "metadata": {},
   "outputs": [],
   "source": [
    "df_sp500_180 = pd.read_csv('D:/Invest/data/stock_hist/')\n",
    "\n",
    "for ticker in sel_candidates:\n",
    "    PlotIntStock(df_sp500_180) "
   ]
  },
  {
   "cell_type": "code",
   "execution_count": null,
   "metadata": {},
   "outputs": [],
   "source": []
  }
 ],
 "metadata": {
  "kernelspec": {
   "display_name": "Python 3",
   "language": "python",
   "name": "python3"
  },
  "language_info": {
   "codemirror_mode": {
    "name": "ipython",
    "version": 3
   },
   "file_extension": ".py",
   "mimetype": "text/x-python",
   "name": "python",
   "nbconvert_exporter": "python",
   "pygments_lexer": "ipython3",
   "version": "3.8.6"
  }
 },
 "nbformat": 4,
 "nbformat_minor": 4
}
