{
 "cells": [
  {
   "cell_type": "code",
   "execution_count": null,
   "metadata": {},
   "outputs": [],
   "source": [
    "import sys\n",
    "sys.path.append('D:/source/repos')\n",
    "\n",
    "\n",
    "import numpy as np\n",
    "import pandas as pd\n",
    "import matplotlib.pyplot as plt\n",
    "import seaborn as sb; sb.set()\n",
    "import datetime as dt\n",
    "import scipy.stats as ss\n",
    "from trading.utils.DailyTrading import *"
   ]
  },
  {
   "cell_type": "code",
   "execution_count": null,
   "metadata": {},
   "outputs": [],
   "source": [
    "plt.figure(figsize=(20, 10))\n",
    "plt.plot(df_covid.date, df_covid.positive);"
   ]
  },
  {
   "cell_type": "code",
   "execution_count": null,
   "metadata": {},
   "outputs": [],
   "source": [
    "start = df_covid.iloc[-1]['date']\n",
    "end = df_covid.iloc[0]['date']\n",
    "\n",
    "ticker = 'VOO'\n",
    "data = yfs.get_data(ticker, start_date=start, end_date=end)"
   ]
  },
  {
   "cell_type": "code",
   "execution_count": null,
   "metadata": {},
   "outputs": [],
   "source": [
    "df_covid.index = df_covid.date\n",
    "df_covid['sp500'] = data['close']\n",
    "\n",
    "df_covid = df_covid[(df_covid.index> '2020-03-20') & (df_covid.index <= '2020-06-25')]\n",
    "df_covid = df_covid.dropna()\n",
    "\n",
    "r = ss.pearsonr(df_covid['positive'], df_covid['sp500'])[0]\n",
    "round(r, 2)"
   ]
  },
  {
   "cell_type": "code",
   "execution_count": null,
   "metadata": {},
   "outputs": [],
   "source": [
    "fig, ax = plt.subplots(figsize=(20, 10))\n",
    "sb.lineplot(x= df_covid['date'], y=df_covid['positive'].astype(np.float), color=\"red\")\n",
    "ax2 = ax.twinx()\n",
    "sb.lineplot(x= df_covid['date'], y=df_covid['sp500'].astype(np.float), color=\"blue\").set_title('FUNDS AND STOCKS')\n",
    "plt.plot(figsize=(16, 6))"
   ]
  }
 ],
 "metadata": {
  "kernelspec": {
   "display_name": "Python 3.8.1 64-bit",
   "language": "python",
   "name": "python38164bitc33de82c9da04edea88eb124459bf44a"
  },
  "language_info": {
   "codemirror_mode": {
    "name": "ipython",
    "version": 3
   },
   "file_extension": ".py",
   "mimetype": "text/x-python",
   "name": "python",
   "nbconvert_exporter": "python",
   "pygments_lexer": "ipython3",
   "version": "3.8.6"
  }
 },
 "nbformat": 4,
 "nbformat_minor": 4
}
