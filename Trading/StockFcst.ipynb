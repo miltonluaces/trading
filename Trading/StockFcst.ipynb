{
 "cells": [
  {
   "cell_type": "markdown",
   "metadata": {},
   "source": [
    "# Stocks Time Series Analysis and Forecasting"
   ]
  },
  {
   "cell_type": "code",
   "execution_count": null,
   "metadata": {},
   "outputs": [],
   "source": [
    "import os\n",
    "os.chdir('D:/source/repos')\n",
    "os.getcwd()\n",
    "\n",
    "import numpy as np\n",
    "import pandas as pd\n",
    "import matplotlib.pyplot as plt\n",
    "import requests\n",
    "import datetime as dt\n",
    "import seaborn as sb; sb.set()\n",
    "import yahoo_fin.stock_info as si\n",
    "import plotly.graph_objects as go\n",
    "import plotly.express as px\n",
    "import statsmodels.tsa.statespace.sarimax as sms\n",
    "from trading.utils.StockFcst import *\n",
    "from trading.utils.TsStats import *\n",
    "\n",
    "%run ds_topics/28_time_series_forecasting/basic_methods.ipynb\n",
    "%run ProblemSolving/Visual/TimeSeries/TsPlots.py"
   ]
  },
  {
   "cell_type": "markdown",
   "metadata": {},
   "source": [
    "### Load data"
   ]
  },
  {
   "cell_type": "code",
   "execution_count": null,
   "metadata": {},
   "outputs": [],
   "source": [
    "df_sp500_180 = pd.read_csv('D:/Invest/data/stock_hist/')\n",
    "#df_sp500_180\n",
    "\n",
    "sp500_candidates = pd.read_excel(('D:/Invest/data/stock_hist/'))\n",
    "#sp500_candidates['ticker'].values\n",
    "\n",
    "dict_candidates = { i : 0 for i in sp500_candidates['ticker'].values }\n",
    "#dict_candidates"
   ]
  },
  {
   "cell_type": "markdown",
   "metadata": {},
   "source": [
    "### MA Crosses"
   ]
  },
  {
   "cell_type": "code",
   "execution_count": null,
   "metadata": {},
   "outputs": [],
   "source": [
    "PlotStockMA(df_sp500_180, 'TFC', 6, 30)"
   ]
  },
  {
   "cell_type": "code",
   "execution_count": null,
   "metadata": {},
   "outputs": [],
   "source": [
    "for i in range(1, df_sp500_180.shape[1]):\n",
    "    ticker = df_sp500_180.columns[i]\n",
    "    if ticker in dict_candidates:\n",
    "        PlotStockMA(df_sp500_180, ticker, 6, 30)"
   ]
  },
  {
   "cell_type": "markdown",
   "metadata": {},
   "source": [
    "### Winners/Loosers in a period"
   ]
  },
  {
   "cell_type": "code",
   "execution_count": null,
   "metadata": {},
   "outputs": [],
   "source": [
    "nTop = 10\n",
    "\n",
    "res = pd.DataFrame(columns=['ticker', 'diff'])\n",
    "for i in range(1, df_sp500_180.shape[1]):\n",
    "    ticker = df_sp500_180.columns[i]\n",
    "    try:\n",
    "        diff = GetMADiff(df_sp500_180, ticker, 6, 4)\n",
    "        res = res.append({ 'ticker' : ticker, 'diff': diff}, ignore_index=True)\n",
    "    except:\n",
    "        print('Error : ', ticker)\n",
    "res.sort_values(by=['diff'], ascending=False,  inplace=True)\n",
    "res"
   ]
  },
  {
   "cell_type": "markdown",
   "metadata": {},
   "source": [
    "#### Winners"
   ]
  },
  {
   "cell_type": "code",
   "execution_count": null,
   "metadata": {},
   "outputs": [],
   "source": [
    "f, ax = plt.subplots(figsize=(6, 15))\n",
    "sb.barplot(x=\"diff\", y=\"ticker\", data=res.head(nTop))\n",
    "sb.despine(left=True, bottom=True)"
   ]
  },
  {
   "cell_type": "markdown",
   "metadata": {},
   "source": [
    "#### Loosers"
   ]
  },
  {
   "cell_type": "code",
   "execution_count": null,
   "metadata": {},
   "outputs": [],
   "source": [
    "f, ax = plt.subplots(figsize=(6, 15))\n",
    "sb.barplot(x=\"diff\", y=\"ticker\", data=res.tail(nTop))\n",
    "sb.despine(left=True, bottom=True)"
   ]
  },
  {
   "cell_type": "code",
   "execution_count": null,
   "metadata": {
    "tags": []
   },
   "outputs": [],
   "source": [
    "nTop = 10\n",
    "start = '2020-01-20'\n",
    "end = '2020-06-26'\n",
    "res = pd.DataFrame(columns=['ticker', 'maxLoss', 'currLoss'])\n",
    "for i in range(1, df_sp500_180.shape[1]):\n",
    "    ticker = df_sp500_180.columns[i]\n",
    "    try:\n",
    "        ts = df_sp500_180[ticker] \n",
    "        maxLoss = GetMaxLoss(ts)\n",
    "        currLoss = GetCurrLoss(ts)\n",
    "        res = res.append({ 'ticker' : ticker, 'maxLoss': maxLoss, 'currLoss': currLoss}, ignore_index=True)\n",
    "    except:\n",
    "        print('Error : ', ticker)\n",
    "res.sort_values(by=['maxLoss'], ascending=False,  inplace=True)\n",
    "res"
   ]
  },
  {
   "cell_type": "code",
   "execution_count": null,
   "metadata": {
    "tags": []
   },
   "outputs": [],
   "source": [
    "ts = df_sp500_180['AMZN']\n",
    "maxLoss = GetMaxLoss(ts)\n",
    "currLoss = GetCurrLoss(ts)\n",
    "currLoss"
   ]
  },
  {
   "cell_type": "code",
   "execution_count": null,
   "metadata": {},
   "outputs": [],
   "source": []
  }
 ],
 "metadata": {
  "kernelspec": {
   "display_name": "Python 3",
   "language": "python",
   "name": "python3"
  },
  "language_info": {
   "codemirror_mode": {
    "name": "ipython",
    "version": 3
   },
   "file_extension": ".py",
   "mimetype": "text/x-python",
   "name": "python",
   "nbconvert_exporter": "python",
   "pygments_lexer": "ipython3",
   "version": "3.8.6"
  }
 },
 "nbformat": 4,
 "nbformat_minor": 4
}
