{
 "cells": [
  {
   "cell_type": "markdown",
   "metadata": {},
   "source": [
    "## Options trading"
   ]
  },
  {
   "cell_type": "code",
   "execution_count": null,
   "metadata": {},
   "outputs": [],
   "source": [
    "import sys\n",
    "sys.path.append('D:/source/repos')\n",
    "from utilities.std_imports import *\n",
    "from yahoo_fin import options\n",
    "from trading.utils.Options import *"
   ]
  },
  {
   "cell_type": "code",
   "execution_count": null,
   "metadata": {},
   "outputs": [],
   "source": [
    "dates = GetDates('KO'); dates"
   ]
  },
  {
   "cell_type": "code",
   "execution_count": null,
   "metadata": {},
   "outputs": [],
   "source": [
    "p1 = GetPrice('KO', '15/01/21', 43)\n",
    "p1\n"
   ]
  },
  {
   "cell_type": "markdown",
   "metadata": {},
   "source": [
    "## Monitor options"
   ]
  },
  {
   "cell_type": "code",
   "execution_count": null,
   "metadata": {},
   "outputs": [],
   "source": [
    "opts = pd.read_csv('D:/Invest/Options/')\n",
    "opts.head()"
   ]
  },
  {
   "cell_type": "code",
   "execution_count": null,
   "metadata": {},
   "outputs": [],
   "source": [
    "optIdx=0\n",
    "ticker = opts.iloc[optIdx]['ticker']\n",
    "date = opts.iloc[optIdx]['date']\n",
    "target = [opts.iloc[optIdx]['target1'], opts.iloc[optIdx]['target2'], opts.iloc[optIdx]['target3']]\n",
    "tbl = GetOptTbl(ticker, date)\n",
    "tbl = OptAnalysis(tbl, [53,58,62])\n",
    "tbl"
   ]
  },
  {
   "cell_type": "code",
   "execution_count": null,
   "metadata": {},
   "outputs": [],
   "source": [
    "PlotAnalysis(tbl)\n",
    "PlotAnalysis(tbl,12)\n",
    "plt.figure(figsize=(20,10))\n",
    "plt.xticks(tbl['Strike'])\n",
    "plt.plot(tbl['Strike'], tbl['Idm']);"
   ]
  }
 ],
 "metadata": {
  "kernelspec": {
   "display_name": "Python 3",
   "language": "python",
   "name": "python3"
  },
  "language_info": {
   "codemirror_mode": {
    "name": "ipython",
    "version": 3
   },
   "file_extension": ".py",
   "mimetype": "text/x-python",
   "name": "python",
   "nbconvert_exporter": "python",
   "pygments_lexer": "ipython3",
   "version": "3.8.6"
  }
 },
 "nbformat": 4,
 "nbformat_minor": 4
}
