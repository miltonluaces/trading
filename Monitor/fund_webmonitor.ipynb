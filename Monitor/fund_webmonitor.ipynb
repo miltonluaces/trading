{
 "cells": [
  {
   "cell_type": "markdown",
   "metadata": {},
   "source": [
    "# Monitor Web charts"
   ]
  },
  {
   "cell_type": "code",
   "execution_count": null,
   "metadata": {},
   "outputs": [],
   "source": [
    "import sys\n",
    "sys.path.append('D:/source/repos')\n",
    "from utilities.std_imports import *\n",
    "from trading.Funds.FundReader import FundReader\n",
    "from trading.Funds.VisualFunds import VisualFunds\n",
    "from trading.Funds.Monitor import ShowInvCharts, ShowInvFTCharts\n",
    "from trading.utils.DailyTrading import Stock_chart\n",
    "from trading.Stocks.exchange import Exchange"
   ]
  },
  {
   "cell_type": "markdown",
   "metadata": {},
   "source": [
    "#### Load data"
   ]
  },
  {
   "cell_type": "code",
   "execution_count": null,
   "metadata": {},
   "outputs": [],
   "source": [
    "fr = FundReader()\n",
    "vf = VisualFunds()"
   ]
  },
  {
   "cell_type": "code",
   "execution_count": null,
   "metadata": {},
   "outputs": [],
   "source": [
    "monitor = fr.GetFundsDf('D:/Invest/Data/Monitor')\n",
    "monitorDf = monitor.replace(np.nan, '')\n",
    "monitorDf"
   ]
  },
  {
   "cell_type": "code",
   "execution_count": null,
   "metadata": {},
   "outputs": [],
   "source": [
    "ml = fr.get_monitor_lists(monitor)\n",
    "print('\\nfund buy\\n',   ml['fund_buy'])\n",
    "print('\\nfund sell\\n',  ml['fund_sell'])"
   ]
  },
  {
   "cell_type": "markdown",
   "metadata": {},
   "source": [
    "#### Monitor list"
   ]
  },
  {
   "cell_type": "code",
   "execution_count": null,
   "metadata": {},
   "outputs": [],
   "source": [
    "# Funds to buy\n",
    "vf.ShowFundCharts(ml['fund_buy'])\n",
    "#vf.ShowCharts(monitor.fund_buy_isin)"
   ]
  },
  {
   "cell_type": "code",
   "execution_count": null,
   "metadata": {},
   "outputs": [],
   "source": [
    "# Funds to sell\n",
    "vf.ShowFundCharts(ml['fund_sell'])\n",
    "#vf.ShowCharts(monitor.fund_sell_isin)"
   ]
  },
  {
   "cell_type": "markdown",
   "metadata": {},
   "source": [
    "#### Monitor portfolio"
   ]
  },
  {
   "cell_type": "code",
   "execution_count": null,
   "metadata": {},
   "outputs": [],
   "source": [
    "#ShowInvCharts()\n",
    "#ShowInvFTCharts()"
   ]
  }
 ],
 "metadata": {
  "kernelspec": {
   "display_name": "Python 3.8.1 64-bit",
   "language": "python",
   "name": "python38164bitc33de82c9da04edea88eb124459bf44a"
  },
  "language_info": {
   "codemirror_mode": {
    "name": "ipython",
    "version": 3
   },
   "file_extension": ".py",
   "mimetype": "text/x-python",
   "name": "python",
   "nbconvert_exporter": "python",
   "pygments_lexer": "ipython3",
   "version": "3.8.6"
  }
 },
 "nbformat": 4,
 "nbformat_minor": 4
}
