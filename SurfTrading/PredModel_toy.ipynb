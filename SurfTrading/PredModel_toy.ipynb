{
 "cells": [
  {
   "cell_type": "markdown",
   "metadata": {},
   "source": [
    "# Toy Regression and time series forecasting : SkLearn, Keras FF & LSTM"
   ]
  },
  {
   "cell_type": "code",
   "execution_count": null,
   "metadata": {},
   "outputs": [],
   "source": [
    "import sys\n",
    "sys.path.append('D:/source/repos')\n",
    "from utilities.std_imports import *\n",
    "\n",
    "from datetime import datetime\n",
    "from sklearn.neural_network import MLPRegressor\n",
    "from sklearn.model_selection import train_test_split\n",
    "from sklearn.metrics import mean_squared_error\n",
    "from sklearn.metrics import r2_score\n",
    "import tensorflow as tf\n",
    "from tensorflow import keras\n",
    "from tensorflow.keras import layers\n",
    "import tensorflow.keras.models as tkm\n",
    "import tensorflow.keras.layers as tkl\n",
    "import trading.utils.SurfTrading as st\n",
    "from mlfs.utils.LSTM import *"
   ]
  },
  {
   "cell_type": "markdown",
   "metadata": {},
   "source": [
    "## Regression"
   ]
  },
  {
   "cell_type": "code",
   "execution_count": null,
   "metadata": {},
   "outputs": [],
   "source": [
    "ds = pd.read_csv('D:/data/csv/toy/regression_polynom_toy.csv')\n",
    "ds.head()"
   ]
  },
  {
   "cell_type": "code",
   "execution_count": null,
   "metadata": {},
   "outputs": [],
   "source": [
    "nvars=1\n",
    "nsteps=1\n",
    "mw=3\n",
    "X_train, y_train, X_test, y_test  = prep_train(ds, split_index=30, nvars=nvars, nsteps=nsteps)\n",
    "print(X_train.shape, y_train.shape, X_test.shape, y_test.shape)"
   ]
  },
  {
   "cell_type": "markdown",
   "metadata": {},
   "source": [
    "#### SkLearn Regression "
   ]
  },
  {
   "cell_type": "code",
   "execution_count": null,
   "metadata": {},
   "outputs": [],
   "source": [
    "ff = MLPRegressor(hidden_layer_sizes=(4, 4, 1), activation='relu', solver='adam', max_iter=10000)\n",
    "ff.fit(X_train, y_train.reshape(-1))"
   ]
  },
  {
   "cell_type": "code",
   "execution_count": null,
   "metadata": {},
   "outputs": [],
   "source": [
    "def Predict(features, label):\n",
    "    label = label.reshape(-1)\n",
    "    pred = ff.predict(features)\n",
    "    pred = [round(x, 2) for x in pred]\n",
    "    res = pd.DataFrame({'label': label, 'pred': pred, 'error': abs(label - pred) , 'abs error': abs(label - pred) * 100 /label})\n",
    "    print('MAE = ',  round( (np.average(res['error']))   ,2)  )\n",
    "    print('MRAE = ', round( (np.sum(res['error'])/np.sum(res['label'])*100)   ,2), '%\\n')\n",
    "    print(res)"
   ]
  },
  {
   "cell_type": "code",
   "execution_count": null,
   "metadata": {},
   "outputs": [],
   "source": [
    "Predict(X_train, y_train)"
   ]
  },
  {
   "cell_type": "code",
   "execution_count": null,
   "metadata": {},
   "outputs": [],
   "source": [
    "Predict(X_test, y_test)"
   ]
  },
  {
   "cell_type": "markdown",
   "metadata": {},
   "source": [
    "#### Keras Regression"
   ]
  },
  {
   "cell_type": "code",
   "execution_count": null,
   "metadata": {},
   "outputs": [],
   "source": [
    "def Predict(features, label):\n",
    "    label = label.reshape(-1)\n",
    "    pred = model.predict(features)\n",
    "    pred = [round(x[0],2) for x in pred]\n",
    "    res = pd.DataFrame({'label': label, 'pred': pred, 'error': abs(label - pred) , 'abs error': abs(label - pred) * 100 /label})\n",
    "    print('MAE = ',  round( (np.average(res['error']))   ,2)  )\n",
    "    print('MRAE = ', round( (np.sum(res['error'])/np.sum(res['label'])*100)   ,2), '%\\n')\n",
    "    print(res)"
   ]
  },
  {
   "cell_type": "code",
   "execution_count": null,
   "metadata": {},
   "outputs": [],
   "source": [
    "def build_model():\n",
    "  model = keras.Sequential([\n",
    "    layers.Dense(10, activation='relu', input_shape=[3]),\n",
    "    layers.Dense(10, activation='relu'),\n",
    "    layers.Dense(1)\n",
    "  ])\n",
    "\n",
    "  optimizer = tf.keras.optimizers.RMSprop(0.001)\n",
    "\n",
    "  model.compile(loss='mse', optimizer=optimizer, metrics=['mae', 'mse'])\n",
    "  return model"
   ]
  },
  {
   "cell_type": "code",
   "execution_count": null,
   "metadata": {},
   "outputs": [],
   "source": [
    "model = build_model()\n",
    "model.summary()"
   ]
  },
  {
   "cell_type": "code",
   "execution_count": null,
   "metadata": {},
   "outputs": [],
   "source": [
    "res = model.fit(X_train, y_train, epochs=2000, validation_split = 0.2, verbose=0)"
   ]
  },
  {
   "cell_type": "code",
   "execution_count": null,
   "metadata": {},
   "outputs": [],
   "source": [
    "Predict(X_train, y_train)"
   ]
  },
  {
   "cell_type": "code",
   "execution_count": null,
   "metadata": {},
   "outputs": [],
   "source": [
    "Predict(X_test, y_test)"
   ]
  },
  {
   "cell_type": "markdown",
   "metadata": {},
   "source": [
    "## Time series"
   ]
  },
  {
   "cell_type": "code",
   "execution_count": null,
   "metadata": {},
   "outputs": [],
   "source": [
    "data = pd.read_csv('D:/data/csv/toy/regression_tsClass_toy.csv')\n",
    "data.head()"
   ]
  },
  {
   "cell_type": "code",
   "execution_count": null,
   "metadata": {},
   "outputs": [],
   "source": [
    "ds = data[['t1', 't2', 't3', 't4', 't5', 'fcst1']]\n",
    "nvars=1\n",
    "nsteps=1\n",
    "mw=5\n",
    "X_train, y_train, X_test, y_test  = prep_train(ds, split_index=15, nvars=nvars, nsteps=nsteps)\n",
    "print(X_train.shape, y_train.shape, X_test.shape, y_test.shape)"
   ]
  },
  {
   "cell_type": "markdown",
   "metadata": {},
   "source": [
    "#### SkLearn FF"
   ]
  },
  {
   "cell_type": "code",
   "execution_count": null,
   "metadata": {},
   "outputs": [],
   "source": [
    "def Predict(features, label):\n",
    "    label = label.reshape(-1)\n",
    "    pred = ff.predict(features)\n",
    "    pred = [round(x, 2) for x in pred]\n",
    "    res = pd.DataFrame({'label': label, 'pred': pred, 'error': abs(label - pred) , 'abs error': abs(label - pred) * 100 /label})\n",
    "    print('MAE = ',  round( (np.average(res['error']))   ,2)  )\n",
    "    print('MRAE = ', round( (np.sum(res['error'])/np.sum(res['label'])*100)   ,2), '%\\n')\n",
    "    print(res)"
   ]
  },
  {
   "cell_type": "code",
   "execution_count": null,
   "metadata": {},
   "outputs": [],
   "source": [
    "ff = MLPRegressor(hidden_layer_sizes=(10, 10, 1), activation='relu', solver='adam', max_iter=2000)\n",
    "ff.fit(X_train, y_train.reshape(-1))"
   ]
  },
  {
   "cell_type": "code",
   "execution_count": null,
   "metadata": {},
   "outputs": [],
   "source": [
    "Predict(X_train, y_train)"
   ]
  },
  {
   "cell_type": "code",
   "execution_count": null,
   "metadata": {},
   "outputs": [],
   "source": [
    "Predict(X_test, y_test)"
   ]
  },
  {
   "cell_type": "markdown",
   "metadata": {},
   "source": [
    "#### Keras FF"
   ]
  },
  {
   "cell_type": "code",
   "execution_count": null,
   "metadata": {},
   "outputs": [],
   "source": [
    "def build_model():\n",
    "  model = keras.Sequential([\n",
    "    layers.Dense(10, activation='relu', input_shape=[5]),\n",
    "    layers.Dense(10, activation='relu'),\n",
    "    layers.Dense(1)\n",
    "  ])\n",
    "\n",
    "  optimizer = tf.keras.optimizers.RMSprop(0.001)\n",
    "\n",
    "  model.compile(loss='mse', optimizer=optimizer, metrics=['mae', 'mse'])\n",
    "  return model"
   ]
  },
  {
   "cell_type": "code",
   "execution_count": null,
   "metadata": {},
   "outputs": [],
   "source": [
    "model = build_model()\n",
    "model.summary()"
   ]
  },
  {
   "cell_type": "code",
   "execution_count": null,
   "metadata": {},
   "outputs": [],
   "source": [
    "res = model.fit(X_train, y_train, epochs=2000, validation_split = 0.2, verbose=0)"
   ]
  },
  {
   "cell_type": "code",
   "execution_count": null,
   "metadata": {},
   "outputs": [],
   "source": [
    "Predict(X_train, y_train)"
   ]
  },
  {
   "cell_type": "code",
   "execution_count": null,
   "metadata": {},
   "outputs": [],
   "source": [
    "Predict(X_test, y_test)"
   ]
  },
  {
   "cell_type": "markdown",
   "metadata": {},
   "source": [
    "#### Keras LSTM one step"
   ]
  },
  {
   "cell_type": "code",
   "execution_count": null,
   "metadata": {},
   "outputs": [],
   "source": [
    "def get_LSTM_model(X_train):\n",
    "    model = tkm.Sequential()\n",
    "    model.add(tkl.LSTM(units=10, input_shape=(X_train.shape[1], X_train.shape[2])))\n",
    "    model.add(tkl.Dense(1))\n",
    "    model.compile(loss='mae', optimizer='adam')\n",
    "    return model\n",
    "\n",
    "def fit_model(model, X_train, y_train, X_test, y_test, epochs, verbose=0):\n",
    "    history = model.fit(X_train, y_train, epochs=epochs, batch_size=1, validation_data=(X_test, y_test), verbose=verbose, shuffle=False)\n",
    "    plt.plot(history.history['loss'], label='train')\n",
    "    plt.plot(history.history['val_loss'], label='test')\n",
    "    plt.legend()\n",
    "    plt.show()\n",
    "    \n",
    "def predict(model, X_test, y_test, rows):\n",
    "    pred = model.predict(X_test)\n",
    "    res = pd.DataFrame(y_test[:,0], columns=['real'])\n",
    "    res['pred'] = np.round(pred)\n",
    "    return res.head(rows)"
   ]
  },
  {
   "cell_type": "code",
   "execution_count": null,
   "metadata": {},
   "outputs": [],
   "source": [
    "X_train_rsh, X_test_rsh = reshape4lstm(X_train, X_test, mw)\n",
    "X_train_rsh.shape, y_train_rsh.shape, X_test.shape, y_test.shape"
   ]
  },
  {
   "cell_type": "code",
   "execution_count": null,
   "metadata": {},
   "outputs": [],
   "source": [
    "model = get_LSTM_model(X_train_rsh)\n",
    "fit_model(model, X_train_rsh, y_train, X_test_rsh, y_test, 220)"
   ]
  },
  {
   "cell_type": "code",
   "execution_count": null,
   "metadata": {},
   "outputs": [],
   "source": [
    "def Predict(features, label):\n",
    "    label = label.reshape(-1)\n",
    "    pred = model.predict(features)\n",
    "    pred = [round(x[0],2) for x in pred]\n",
    "    res = pd.DataFrame({'label': label, 'pred': pred, 'error': abs(label - pred) , 'abs error': abs(label - pred) * 100 /label})\n",
    "    print('MAE = ',  round( (np.average(res['error']))   ,2)  )\n",
    "    print('MRAE = ', round( (np.sum(res['error'])/np.sum(res['label'])*100)   ,2), '%\\n')\n",
    "    print(res) "
   ]
  },
  {
   "cell_type": "code",
   "execution_count": null,
   "metadata": {},
   "outputs": [],
   "source": [
    "Predict(X_test, y_test)"
   ]
  },
  {
   "cell_type": "code",
   "execution_count": null,
   "metadata": {},
   "outputs": [],
   "source": [
    "Predict(X_test, y_test)"
   ]
  },
  {
   "cell_type": "markdown",
   "metadata": {},
   "source": [
    "#### Keras LSTM n steps"
   ]
  },
  {
   "cell_type": "code",
   "execution_count": null,
   "metadata": {},
   "outputs": [],
   "source": [
    "def get_LSTM_model(X_train):\n",
    "    model = tkm.Sequential()\n",
    "    model.add(tkl.LSTM(units=40, input_shape=(X_train.shape[1], X_train.shape[2])))\n",
    "    model.add(tkl.Dense(3))\n",
    "    model.compile(loss='mae', optimizer='adam')\n",
    "    return model"
   ]
  },
  {
   "cell_type": "code",
   "execution_count": null,
   "metadata": {},
   "outputs": [],
   "source": [
    "ds = data[['t1', 't2', 't3', 't4', 't5', 'fcst1', 'fcst2', 'fcst3']]\n",
    "nvars=1\n",
    "nsteps=3\n",
    "mw=5\n",
    "X_train, y_train, X_test, y_test  = prep_train(ds, split_index=15, nvars=nvars, nsteps=nsteps)\n",
    "print(X_train.shape, y_train.shape, X_test.shape, y_test.shape)"
   ]
  },
  {
   "cell_type": "code",
   "execution_count": null,
   "metadata": {},
   "outputs": [],
   "source": [
    "X_train_rsh, X_test_rsh = reshape4lstm(X_train, X_test, mw)\n",
    "X_train_rsh.shape, y_train.shape, X_test_rsh.shape, y_test.shape"
   ]
  },
  {
   "cell_type": "code",
   "execution_count": null,
   "metadata": {},
   "outputs": [],
   "source": [
    "model = get_LSTM_model(X_train_rsh)\n",
    "fit_model(model, X_train_rsh, y_train, X_test_rsh, y_test, 120)"
   ]
  },
  {
   "cell_type": "code",
   "execution_count": null,
   "metadata": {},
   "outputs": [],
   "source": [
    "def Predict(features, features_rsh, labels):\n",
    "    pred = model.predict(features_rsh)\n",
    "    pred = pd.DataFrame(pred)\n",
    "    res = pd.DataFrame(features)\n",
    "    labels = pd.DataFrame(labels)\n",
    "    res = pd.concat([res, labels, pred], axis=1)\n",
    "    res.columns = ['hist1', 'hist2', 'hist3', 'hist4', 'hist5', 'fcst1', 'fcst2', 'fcst3', 'pred1', 'pred2', 'pred3']\n",
    "    res['err1'] = abs(res['fcst1'] - res['pred1'])\n",
    "    res['err2'] = abs(res['fcst2'] - res['pred2'])\n",
    "    res['err3'] = abs(res['fcst3'] - res['pred3'])\n",
    "    res = res.round(2)\n",
    "    print('MAE(1) = ',  round( (np.average(res['err1']))   ,2) , '\\t\\tMRAE(1) = ', round( (np.sum(res['err1'])/np.sum(res['fcst1'])*100)   ,2), '%\\n')\n",
    "    print('MAE(2) = ',  round( (np.average(res['err2']))   ,2) , '\\t\\tMRAE(2) = ', round( (np.sum(res['err2'])/np.sum(res['fcst2'])*100)   ,2), '%\\n')\n",
    "    print('MAE(3) = ',  round( (np.average(res['err3']))   ,2) , '\\t\\tMRAE(3) = ', round( (np.sum(res['err3'])/np.sum(res['fcst3'])*100)   ,2), '%\\n')\n",
    "    return res"
   ]
  },
  {
   "cell_type": "code",
   "execution_count": null,
   "metadata": {},
   "outputs": [],
   "source": [
    "res = Predict(X_train, X_train_rsh, y_train)\n",
    "res"
   ]
  },
  {
   "cell_type": "code",
   "execution_count": null,
   "metadata": {},
   "outputs": [],
   "source": [
    "res = Predict(X_test, X_test_rsh, y_test)\n",
    "res"
   ]
  },
  {
   "cell_type": "code",
   "execution_count": null,
   "metadata": {},
   "outputs": [],
   "source": [
    "res.to_csv('toy_test.csv')"
   ]
  },
  {
   "cell_type": "code",
   "execution_count": null,
   "metadata": {},
   "outputs": [],
   "source": []
  }
 ],
 "metadata": {
  "kernelspec": {
   "display_name": "Python 3.8.1 64-bit",
   "language": "python",
   "name": "python38164bitc33de82c9da04edea88eb124459bf44a"
  },
  "language_info": {
   "codemirror_mode": {
    "name": "ipython",
    "version": 3
   },
   "file_extension": ".py",
   "mimetype": "text/x-python",
   "name": "python",
   "nbconvert_exporter": "python",
   "pygments_lexer": "ipython3",
   "version": "3.8.6"
  }
 },
 "nbformat": 4,
 "nbformat_minor": 4
}
