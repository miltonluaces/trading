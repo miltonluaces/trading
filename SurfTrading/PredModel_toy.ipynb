{
 "cells": [
  {
   "cell_type": "markdown",
   "metadata": {},
   "source": [
    "# Toy Regression and time series forecasting : SkLearn, Keras FF & LSTM"
   ]
  },
  {
   "cell_type": "code",
   "execution_count": 5,
   "metadata": {},
   "outputs": [],
   "source": [
    "import sys\n",
    "sys.path.append('D:/source/repos')\n",
    "from utilities.std_imports import *\n",
    "\n",
    "from datetime import datetime\n",
    "from sklearn.neural_network import MLPRegressor\n",
    "from sklearn.model_selection import train_test_split\n",
    "from sklearn.metrics import mean_squared_error\n",
    "from sklearn.metrics import r2_score\n",
    "import tensorflow as tf\n",
    "from tensorflow import keras\n",
    "from tensorflow.keras import layers\n",
    "import tensorflow.keras.models as tkm\n",
    "import tensorflow.keras.layers as tkl\n",
    "import trading.utils.SurfTrading as st\n",
    "from mlfs.utils.LSTM import *"
   ]
  },
  {
   "cell_type": "markdown",
   "metadata": {},
   "source": [
    "## Regression"
   ]
  },
  {
   "cell_type": "code",
   "execution_count": 37,
   "metadata": {},
   "outputs": [
    {
     "data": {
      "text/html": [
       "<div>\n",
       "<style scoped>\n",
       "    .dataframe tbody tr th:only-of-type {\n",
       "        vertical-align: middle;\n",
       "    }\n",
       "\n",
       "    .dataframe tbody tr th {\n",
       "        vertical-align: top;\n",
       "    }\n",
       "\n",
       "    .dataframe thead th {\n",
       "        text-align: right;\n",
       "    }\n",
       "</style>\n",
       "<table border=\"1\" class=\"dataframe\">\n",
       "  <thead>\n",
       "    <tr style=\"text-align: right;\">\n",
       "      <th></th>\n",
       "      <th>var1</th>\n",
       "      <th>var2</th>\n",
       "      <th>var3</th>\n",
       "      <th>label</th>\n",
       "    </tr>\n",
       "  </thead>\n",
       "  <tbody>\n",
       "    <tr>\n",
       "      <th>0</th>\n",
       "      <td>1</td>\n",
       "      <td>2</td>\n",
       "      <td>3</td>\n",
       "      <td>321</td>\n",
       "    </tr>\n",
       "    <tr>\n",
       "      <th>1</th>\n",
       "      <td>3</td>\n",
       "      <td>2</td>\n",
       "      <td>2</td>\n",
       "      <td>223</td>\n",
       "    </tr>\n",
       "    <tr>\n",
       "      <th>2</th>\n",
       "      <td>2</td>\n",
       "      <td>3</td>\n",
       "      <td>6</td>\n",
       "      <td>632</td>\n",
       "    </tr>\n",
       "    <tr>\n",
       "      <th>3</th>\n",
       "      <td>3</td>\n",
       "      <td>4</td>\n",
       "      <td>0</td>\n",
       "      <td>43</td>\n",
       "    </tr>\n",
       "    <tr>\n",
       "      <th>4</th>\n",
       "      <td>9</td>\n",
       "      <td>8</td>\n",
       "      <td>8</td>\n",
       "      <td>889</td>\n",
       "    </tr>\n",
       "  </tbody>\n",
       "</table>\n",
       "</div>"
      ],
      "text/plain": [
       "   var1  var2  var3  label\n",
       "0     1     2     3    321\n",
       "1     3     2     2    223\n",
       "2     2     3     6    632\n",
       "3     3     4     0     43\n",
       "4     9     8     8    889"
      ]
     },
     "execution_count": 37,
     "metadata": {},
     "output_type": "execute_result"
    }
   ],
   "source": [
    "ds = pd.read_csv('D:/data/csv/toy/regression_polynom_toy.csv')\n",
    "ds.head()"
   ]
  },
  {
   "cell_type": "code",
   "execution_count": 38,
   "metadata": {},
   "outputs": [
    {
     "name": "stdout",
     "output_type": "stream",
     "text": [
      "(30, 3) (30, 1) (9, 3) (9, 1)\n"
     ]
    }
   ],
   "source": [
    "nvars=1\n",
    "nsteps=1\n",
    "mw=3\n",
    "X_train, y_train, X_test, y_test  = prep_train(ds, split_index=30, nvars=nvars, nsteps=nsteps)\n",
    "print(X_train.shape, y_train.shape, X_test.shape, y_test.shape)"
   ]
  },
  {
   "cell_type": "markdown",
   "metadata": {},
   "source": [
    "#### SkLearn Regression "
   ]
  },
  {
   "cell_type": "code",
   "execution_count": 39,
   "metadata": {},
   "outputs": [
    {
     "data": {
      "text/plain": [
       "MLPRegressor(hidden_layer_sizes=(4, 4, 1), max_iter=10000)"
      ]
     },
     "execution_count": 39,
     "metadata": {},
     "output_type": "execute_result"
    }
   ],
   "source": [
    "ff = MLPRegressor(hidden_layer_sizes=(4, 4, 1), activation='relu', solver='adam', max_iter=10000)\n",
    "ff.fit(X_train, y_train.reshape(-1))"
   ]
  },
  {
   "cell_type": "code",
   "execution_count": 40,
   "metadata": {},
   "outputs": [],
   "source": [
    "def Predict(features, label):\n",
    "    label = label.reshape(-1)\n",
    "    pred = ff.predict(features)\n",
    "    pred = [round(x, 2) for x in pred]\n",
    "    res = pd.DataFrame({'label': label, 'pred': pred, 'error': abs(label - pred) , 'abs error': abs(label - pred) * 100 /label})\n",
    "    print('MAE = ',  round( (np.average(res['error']))   ,2)  )\n",
    "    print('MRAE = ', round( (np.sum(res['error'])/np.sum(res['label'])*100)   ,2), '%\\n')\n",
    "    print(res)"
   ]
  },
  {
   "cell_type": "code",
   "execution_count": 41,
   "metadata": {},
   "outputs": [
    {
     "name": "stdout",
     "output_type": "stream",
     "text": [
      "MAE =  0.17\n",
      "MRAE =  0.03 %\n",
      "\n",
      "    label    pred  error  abs error\n",
      "0     321  321.34   0.34   0.105919\n",
      "1     223  223.32   0.32   0.143498\n",
      "2     632  632.14   0.14   0.022152\n",
      "3      43   43.34   0.34   0.790698\n",
      "4     889  888.63   0.37   0.041620\n",
      "5      93   93.16   0.16   0.172043\n",
      "6     958  957.72   0.28   0.029228\n",
      "7     505  505.18   0.18   0.035644\n",
      "8     681  680.99   0.01   0.001468\n",
      "9     805  805.05   0.05   0.006211\n",
      "10    389  388.85   0.15   0.038560\n",
      "11    233  233.28   0.28   0.120172\n",
      "12    424  424.19   0.19   0.044811\n",
      "13    515  515.15   0.15   0.029126\n",
      "14    189  188.94   0.06   0.031746\n",
      "15    776  775.81   0.19   0.024485\n",
      "16    462  462.12   0.12   0.025974\n",
      "17    951  950.96   0.04   0.004206\n",
      "18    720  720.20   0.20   0.027778\n",
      "19    589  588.76   0.24   0.040747\n",
      "20    308  308.17   0.17   0.055195\n",
      "21    587  586.83   0.17   0.028961\n",
      "22     93   93.16   0.16   0.172043\n",
      "23    606  606.10   0.10   0.016502\n",
      "24    735  734.99   0.01   0.001361\n",
      "25    454  454.09   0.09   0.019824\n",
      "26    173  173.19   0.19   0.109827\n",
      "27    791  790.91   0.09   0.011378\n",
      "28    428  428.05   0.05   0.011682\n",
      "29    334  334.20   0.20   0.059880\n"
     ]
    }
   ],
   "source": [
    "Predict(X_train, y_train)"
   ]
  },
  {
   "cell_type": "code",
   "execution_count": 42,
   "metadata": {},
   "outputs": [
    {
     "name": "stdout",
     "output_type": "stream",
     "text": [
      "MAE =  0.19\n",
      "MRAE =  0.05 %\n",
      "\n",
      "   label    pred  error  abs error\n",
      "0    887  886.69   0.31   0.034949\n",
      "1     54   54.27   0.27   0.500000\n",
      "2    563  563.04   0.04   0.007105\n",
      "3    472  472.09   0.09   0.019068\n",
      "4    211  211.42   0.42   0.199052\n",
      "5    105  105.37   0.37   0.352381\n",
      "6    478  477.88   0.12   0.025105\n",
      "7    197  196.98   0.02   0.010152\n",
      "8    606  606.10   0.10   0.016502\n"
     ]
    }
   ],
   "source": [
    "Predict(X_test, y_test)"
   ]
  },
  {
   "cell_type": "markdown",
   "metadata": {},
   "source": [
    "#### Keras Regression"
   ]
  },
  {
   "cell_type": "code",
   "execution_count": 43,
   "metadata": {},
   "outputs": [],
   "source": [
    "def Predict(features, label):\n",
    "    label = label.reshape(-1)\n",
    "    pred = model.predict(features)\n",
    "    pred = [round(x[0],2) for x in pred]\n",
    "    res = pd.DataFrame({'label': label, 'pred': pred, 'error': abs(label - pred) , 'abs error': abs(label - pred) * 100 /label})\n",
    "    print('MAE = ',  round( (np.average(res['error']))   ,2)  )\n",
    "    print('MRAE = ', round( (np.sum(res['error'])/np.sum(res['label'])*100)   ,2), '%\\n')\n",
    "    print(res)"
   ]
  },
  {
   "cell_type": "code",
   "execution_count": 44,
   "metadata": {},
   "outputs": [],
   "source": [
    "def build_model():\n",
    "  model = keras.Sequential([\n",
    "    layers.Dense(10, activation='relu', input_shape=[3]),\n",
    "    layers.Dense(10, activation='relu'),\n",
    "    layers.Dense(1)\n",
    "  ])\n",
    "\n",
    "  optimizer = tf.keras.optimizers.RMSprop(0.001)\n",
    "\n",
    "  model.compile(loss='mse', optimizer=optimizer, metrics=['mae', 'mse'])\n",
    "  return model"
   ]
  },
  {
   "cell_type": "code",
   "execution_count": 45,
   "metadata": {},
   "outputs": [
    {
     "name": "stdout",
     "output_type": "stream",
     "text": [
      "Model: \"sequential_4\"\n",
      "_________________________________________________________________\n",
      "Layer (type)                 Output Shape              Param #   \n",
      "=================================================================\n",
      "dense_8 (Dense)              (None, 10)                40        \n",
      "_________________________________________________________________\n",
      "dense_9 (Dense)              (None, 10)                110       \n",
      "_________________________________________________________________\n",
      "dense_10 (Dense)             (None, 1)                 11        \n",
      "=================================================================\n",
      "Total params: 161\n",
      "Trainable params: 161\n",
      "Non-trainable params: 0\n",
      "_________________________________________________________________\n"
     ]
    }
   ],
   "source": [
    "model = build_model()\n",
    "model.summary()"
   ]
  },
  {
   "cell_type": "code",
   "execution_count": 46,
   "metadata": {},
   "outputs": [],
   "source": [
    "res = model.fit(X_train, y_train, epochs=2000, validation_split = 0.2, verbose=0)"
   ]
  },
  {
   "cell_type": "code",
   "execution_count": 47,
   "metadata": {},
   "outputs": [
    {
     "name": "stdout",
     "output_type": "stream",
     "text": [
      "MAE =  1.01\n",
      "MRAE =  0.2 %\n",
      "\n",
      "    label        pred     error  abs error\n",
      "0     321  321.640015  0.640015   0.199382\n",
      "1     223  223.589996  0.589996   0.264572\n",
      "2     632  633.059998  1.059998   0.167721\n",
      "3      43   43.419998  0.419998   0.976740\n",
      "4     889  890.679993  1.679993   0.188976\n",
      "5      93   93.580002  0.580002   0.623658\n",
      "6     958  959.669983  1.669983   0.174320\n",
      "7     505  505.950012  0.950012   0.188121\n",
      "8     681  682.179993  1.179993   0.173274\n",
      "9     805  806.299988  1.299988   0.161489\n",
      "10    389  390.100006  1.100006   0.282778\n",
      "11    233  233.630005  0.630005   0.270388\n",
      "12    424  424.859985  0.859985   0.202827\n",
      "13    515  515.979980  0.979980   0.190287\n",
      "14    189  189.860001  0.860001   0.455027\n",
      "15    776  777.429993  1.429993   0.184277\n",
      "16    462  462.920013  0.920013   0.199137\n",
      "17    951  952.440002  1.440002   0.151420\n",
      "18    720  721.080017  1.080017   0.150002\n",
      "19    589  590.330017  1.330017   0.225809\n",
      "20    308  308.820007  0.820007   0.266236\n",
      "21    587  588.260010  1.260010   0.214652\n",
      "22     93   93.580002  0.580002   0.623658\n",
      "23    606  607.099976  1.099976   0.181514\n",
      "24    735  736.280029  1.280029   0.174154\n",
      "25    454  454.950012  0.950012   0.209254\n",
      "26    173  173.630005  0.630005   0.364165\n",
      "27    791  792.330017  1.330017   0.168144\n",
      "28    428  429.000000  1.000000   0.233645\n",
      "29    334  334.779999  0.779999   0.233533\n"
     ]
    }
   ],
   "source": [
    "Predict(X_train, y_train)"
   ]
  },
  {
   "cell_type": "code",
   "execution_count": 48,
   "metadata": {},
   "outputs": [
    {
     "name": "stdout",
     "output_type": "stream",
     "text": [
      "MAE =  2.45\n",
      "MRAE =  0.62 %\n",
      "\n",
      "   label        pred      error  abs error\n",
      "0    887  888.609985   1.609985   0.181509\n",
      "1     54   56.189999   2.189999   4.055553\n",
      "2    563  564.070007   1.070007   0.190055\n",
      "3    472  472.950012   0.950012   0.201274\n",
      "4    211  211.500000   0.500000   0.236967\n",
      "5    105  117.610001  12.610001  12.009524\n",
      "6    478  479.149994   1.149994   0.240584\n",
      "7    197  197.830002   0.830002   0.421321\n",
      "8    606  607.099976   1.099976   0.181514\n"
     ]
    }
   ],
   "source": [
    "Predict(X_test, y_test)"
   ]
  },
  {
   "cell_type": "markdown",
   "metadata": {},
   "source": [
    "## Time series"
   ]
  },
  {
   "cell_type": "code",
   "execution_count": 69,
   "metadata": {},
   "outputs": [
    {
     "data": {
      "text/html": [
       "<div>\n",
       "<style scoped>\n",
       "    .dataframe tbody tr th:only-of-type {\n",
       "        vertical-align: middle;\n",
       "    }\n",
       "\n",
       "    .dataframe tbody tr th {\n",
       "        vertical-align: top;\n",
       "    }\n",
       "\n",
       "    .dataframe thead th {\n",
       "        text-align: right;\n",
       "    }\n",
       "</style>\n",
       "<table border=\"1\" class=\"dataframe\">\n",
       "  <thead>\n",
       "    <tr style=\"text-align: right;\">\n",
       "      <th></th>\n",
       "      <th>t1</th>\n",
       "      <th>t2</th>\n",
       "      <th>t3</th>\n",
       "      <th>t4</th>\n",
       "      <th>t5</th>\n",
       "      <th>fcst1</th>\n",
       "      <th>fcst2</th>\n",
       "      <th>fcst3</th>\n",
       "      <th>trend</th>\n",
       "      <th></th>\n",
       "    </tr>\n",
       "  </thead>\n",
       "  <tbody>\n",
       "    <tr>\n",
       "      <th>0</th>\n",
       "      <td>1</td>\n",
       "      <td>2</td>\n",
       "      <td>3</td>\n",
       "      <td>4</td>\n",
       "      <td>5</td>\n",
       "      <td>6</td>\n",
       "      <td>7</td>\n",
       "      <td>8</td>\n",
       "      <td>1</td>\n",
       "      <td>8</td>\n",
       "    </tr>\n",
       "    <tr>\n",
       "      <th>1</th>\n",
       "      <td>2</td>\n",
       "      <td>4</td>\n",
       "      <td>5</td>\n",
       "      <td>6</td>\n",
       "      <td>8</td>\n",
       "      <td>10</td>\n",
       "      <td>12</td>\n",
       "      <td>14</td>\n",
       "      <td>1</td>\n",
       "      <td>14</td>\n",
       "    </tr>\n",
       "    <tr>\n",
       "      <th>2</th>\n",
       "      <td>1</td>\n",
       "      <td>2</td>\n",
       "      <td>1</td>\n",
       "      <td>2</td>\n",
       "      <td>1</td>\n",
       "      <td>2</td>\n",
       "      <td>1</td>\n",
       "      <td>2</td>\n",
       "      <td>0</td>\n",
       "      <td>2</td>\n",
       "    </tr>\n",
       "    <tr>\n",
       "      <th>3</th>\n",
       "      <td>7</td>\n",
       "      <td>6</td>\n",
       "      <td>5</td>\n",
       "      <td>4</td>\n",
       "      <td>3</td>\n",
       "      <td>2</td>\n",
       "      <td>1</td>\n",
       "      <td>0</td>\n",
       "      <td>-1</td>\n",
       "      <td>2</td>\n",
       "    </tr>\n",
       "    <tr>\n",
       "      <th>4</th>\n",
       "      <td>9</td>\n",
       "      <td>8</td>\n",
       "      <td>7</td>\n",
       "      <td>6</td>\n",
       "      <td>5</td>\n",
       "      <td>4</td>\n",
       "      <td>3</td>\n",
       "      <td>2</td>\n",
       "      <td>-1</td>\n",
       "      <td>4</td>\n",
       "    </tr>\n",
       "  </tbody>\n",
       "</table>\n",
       "</div>"
      ],
      "text/plain": [
       "   t1  t2  t3  t4  t5  fcst1  fcst2  fcst3  trend    \n",
       "0   1   2   3   4   5      6      7      8      1   8\n",
       "1   2   4   5   6   8     10     12     14      1  14\n",
       "2   1   2   1   2   1      2      1      2      0   2\n",
       "3   7   6   5   4   3      2      1      0     -1   2\n",
       "4   9   8   7   6   5      4      3      2     -1   4"
      ]
     },
     "execution_count": 69,
     "metadata": {},
     "output_type": "execute_result"
    }
   ],
   "source": [
    "data = pd.read_csv('D:/data/csv/toy/regression_tsClass_toy.csv')\n",
    "data.head()"
   ]
  },
  {
   "cell_type": "code",
   "execution_count": 157,
   "metadata": {},
   "outputs": [
    {
     "name": "stdout",
     "output_type": "stream",
     "text": [
      "(15, 5) (15, 1) (4, 5) (4, 1)\n"
     ]
    }
   ],
   "source": [
    "ds = data[['t1', 't2', 't3', 't4', 't5', 'fcst1']]\n",
    "nvars=1\n",
    "nsteps=1\n",
    "mw=5\n",
    "X_train, y_train, X_test, y_test  = prep_train(ds, split_index=15, nvars=nvars, nsteps=nsteps)\n",
    "print(X_train.shape, y_train.shape, X_test.shape, y_test.shape)"
   ]
  },
  {
   "cell_type": "markdown",
   "metadata": {},
   "source": [
    "#### SkLearn FF"
   ]
  },
  {
   "cell_type": "code",
   "execution_count": 51,
   "metadata": {},
   "outputs": [],
   "source": [
    "def Predict(features, label):\n",
    "    label = label.reshape(-1)\n",
    "    pred = ff.predict(features)\n",
    "    pred = [round(x, 2) for x in pred]\n",
    "    res = pd.DataFrame({'label': label, 'pred': pred, 'error': abs(label - pred) , 'abs error': abs(label - pred) * 100 /label})\n",
    "    print('MAE = ',  round( (np.average(res['error']))   ,2)  )\n",
    "    print('MRAE = ', round( (np.sum(res['error'])/np.sum(res['label'])*100)   ,2), '%\\n')\n",
    "    print(res)"
   ]
  },
  {
   "cell_type": "code",
   "execution_count": 54,
   "metadata": {},
   "outputs": [
    {
     "data": {
      "text/plain": [
       "MLPRegressor(hidden_layer_sizes=(10, 10, 1), max_iter=2000)"
      ]
     },
     "execution_count": 54,
     "metadata": {},
     "output_type": "execute_result"
    }
   ],
   "source": [
    "ff = MLPRegressor(hidden_layer_sizes=(10, 10, 1), activation='relu', solver='adam', max_iter=2000)\n",
    "ff.fit(X_train, y_train.reshape(-1))"
   ]
  },
  {
   "cell_type": "code",
   "execution_count": 55,
   "metadata": {},
   "outputs": [
    {
     "name": "stdout",
     "output_type": "stream",
     "text": [
      "MAE =  0.16\n",
      "MRAE =  3.61 %\n",
      "\n",
      "    label  pred  error  abs error\n",
      "0       6  6.15   0.15   2.500000\n",
      "1      10  9.65   0.35   3.500000\n",
      "2       2  1.69   0.31  15.500000\n",
      "3       2  2.14   0.14   7.000000\n",
      "4       4  4.00   0.00   0.000000\n",
      "5       7  7.21   0.21   3.000000\n",
      "6       3  3.22   0.22   7.333333\n",
      "7       4  3.74   0.26   6.500000\n",
      "8       2  1.92   0.08   4.000000\n",
      "9       3  3.22   0.22   7.333333\n",
      "10      4  4.01   0.01   0.250000\n",
      "11      2  2.11   0.11   5.500000\n",
      "12      7  7.16   0.16   2.285714\n",
      "13      6  6.02   0.02   0.333333\n",
      "14      5  4.82   0.18   3.600000\n"
     ]
    }
   ],
   "source": [
    "Predict(X_train, y_train)"
   ]
  },
  {
   "cell_type": "code",
   "execution_count": 56,
   "metadata": {},
   "outputs": [
    {
     "name": "stdout",
     "output_type": "stream",
     "text": [
      "MAE =  0.81\n",
      "MRAE =  13.04 %\n",
      "\n",
      "   label   pred  error  abs error\n",
      "0      5   4.04   0.96  19.200000\n",
      "1      9   9.19   0.19   2.111111\n",
      "2      2   2.68   0.68  34.000000\n",
      "3      9  10.43   1.43  15.888889\n"
     ]
    }
   ],
   "source": [
    "Predict(X_test, y_test)"
   ]
  },
  {
   "cell_type": "markdown",
   "metadata": {},
   "source": [
    "#### Keras FF"
   ]
  },
  {
   "cell_type": "code",
   "execution_count": 71,
   "metadata": {},
   "outputs": [],
   "source": [
    "def build_model():\n",
    "  model = keras.Sequential([\n",
    "    layers.Dense(10, activation='relu', input_shape=[5]),\n",
    "    layers.Dense(10, activation='relu'),\n",
    "    layers.Dense(1)\n",
    "  ])\n",
    "\n",
    "  optimizer = tf.keras.optimizers.RMSprop(0.001)\n",
    "\n",
    "  model.compile(loss='mse', optimizer=optimizer, metrics=['mae', 'mse'])\n",
    "  return model"
   ]
  },
  {
   "cell_type": "code",
   "execution_count": 72,
   "metadata": {},
   "outputs": [
    {
     "name": "stdout",
     "output_type": "stream",
     "text": [
      "Model: \"sequential_8\"\n",
      "_________________________________________________________________\n",
      "Layer (type)                 Output Shape              Param #   \n",
      "=================================================================\n",
      "dense_18 (Dense)             (None, 10)                60        \n",
      "_________________________________________________________________\n",
      "dense_19 (Dense)             (None, 10)                110       \n",
      "_________________________________________________________________\n",
      "dense_20 (Dense)             (None, 1)                 11        \n",
      "=================================================================\n",
      "Total params: 181\n",
      "Trainable params: 181\n",
      "Non-trainable params: 0\n",
      "_________________________________________________________________\n"
     ]
    }
   ],
   "source": [
    "model = build_model()\n",
    "model.summary()"
   ]
  },
  {
   "cell_type": "code",
   "execution_count": 73,
   "metadata": {},
   "outputs": [],
   "source": [
    "res = model.fit(X_train, y_train, epochs=2000, validation_split = 0.2, verbose=0)"
   ]
  },
  {
   "cell_type": "code",
   "execution_count": 74,
   "metadata": {},
   "outputs": [
    {
     "name": "stdout",
     "output_type": "stream",
     "text": [
      "MAE =  0.16\n",
      "MRAE =  3.61 %\n",
      "\n",
      "    label  pred  error  abs error\n",
      "0       6  6.15   0.15   2.500000\n",
      "1      10  9.65   0.35   3.500000\n",
      "2       2  1.69   0.31  15.500000\n",
      "3       2  2.14   0.14   7.000000\n",
      "4       4  4.00   0.00   0.000000\n",
      "5       7  7.21   0.21   3.000000\n",
      "6       3  3.22   0.22   7.333333\n",
      "7       4  3.74   0.26   6.500000\n",
      "8       2  1.92   0.08   4.000000\n",
      "9       3  3.22   0.22   7.333333\n",
      "10      4  4.01   0.01   0.250000\n",
      "11      2  2.11   0.11   5.500000\n",
      "12      7  7.16   0.16   2.285714\n",
      "13      6  6.02   0.02   0.333333\n",
      "14      5  4.82   0.18   3.600000\n"
     ]
    }
   ],
   "source": [
    "Predict(X_train, y_train)"
   ]
  },
  {
   "cell_type": "code",
   "execution_count": 75,
   "metadata": {},
   "outputs": [
    {
     "name": "stdout",
     "output_type": "stream",
     "text": [
      "MAE =  0.81\n",
      "MRAE =  13.04 %\n",
      "\n",
      "   label   pred  error  abs error\n",
      "0      5   4.04   0.96  19.200000\n",
      "1      9   9.19   0.19   2.111111\n",
      "2      2   2.68   0.68  34.000000\n",
      "3      9  10.43   1.43  15.888889\n"
     ]
    }
   ],
   "source": [
    "Predict(X_test, y_test)"
   ]
  },
  {
   "cell_type": "markdown",
   "metadata": {},
   "source": [
    "#### Keras LSTM one step"
   ]
  },
  {
   "cell_type": "code",
   "execution_count": 104,
   "metadata": {},
   "outputs": [],
   "source": [
    "def get_LSTM_model(X_train):\n",
    "    model = tkm.Sequential()\n",
    "    model.add(tkl.LSTM(units=10, input_shape=(X_train.shape[1], X_train.shape[2])))\n",
    "    model.add(tkl.Dense(1))\n",
    "    model.compile(loss='mae', optimizer='adam')\n",
    "    return model\n",
    "\n",
    "def fit_model(model, X_train, y_train, X_test, y_test, epochs, verbose=0):\n",
    "    history = model.fit(X_train, y_train, epochs=epochs, batch_size=1, validation_data=(X_test, y_test), verbose=verbose, shuffle=False)\n",
    "    plt.plot(history.history['loss'], label='train')\n",
    "    plt.plot(history.history['val_loss'], label='test')\n",
    "    plt.legend()\n",
    "    plt.show()\n",
    "    \n",
    "def predict(model, X_test, y_test, rows):\n",
    "    pred = model.predict(X_test)\n",
    "    res = pd.DataFrame(y_test[:,0], columns=['real'])\n",
    "    res['pred'] = np.round(pred)\n",
    "    return res.head(rows)"
   ]
  },
  {
   "cell_type": "code",
   "execution_count": 77,
   "metadata": {},
   "outputs": [
    {
     "data": {
      "text/plain": [
       "((15, 5, 1), (15, 1), (4, 5, 1), (4, 1))"
      ]
     },
     "execution_count": 77,
     "metadata": {},
     "output_type": "execute_result"
    }
   ],
   "source": [
    "X_train_rsh, X_test_rsh = reshape4lstm(X_train, X_test, mw)\n",
    "X_train_rsh.shape, y_train_rsh.shape, X_test.shape, y_test.shape"
   ]
  },
  {
   "cell_type": "code",
   "execution_count": 78,
   "metadata": {},
   "outputs": [
    {
     "data": {
      "image/png": "[encoded data removed]",
      "text/plain": [
       "<Figure size 432x288 with 1 Axes>"
      ]
     },
     "metadata": {},
     "output_type": "display_data"
    }
   ],
   "source": [
    "model = get_LSTM_model(X_train_rsh)\n",
    "fit_model(model, X_train_rsh, y_train, X_test_rsh, y_test, 220)"
   ]
  },
  {
   "cell_type": "code",
   "execution_count": 96,
   "metadata": {},
   "outputs": [],
   "source": [
    "def Predict(features, label):\n",
    "    label = label.reshape(-1)\n",
    "    pred = model.predict(features)\n",
    "    pred = [round(x[0],2) for x in pred]\n",
    "    res = pd.DataFrame({'label': label, 'pred': pred, 'error': abs(label - pred) , 'abs error': abs(label - pred) * 100 /label})\n",
    "    print('MAE = ',  round( (np.average(res['error']))   ,2)  )\n",
    "    print('MRAE = ', round( (np.sum(res['error'])/np.sum(res['label'])*100)   ,2), '%\\n')\n",
    "    print(res) "
   ]
  },
  {
   "cell_type": "code",
   "execution_count": 97,
   "metadata": {},
   "outputs": [
    {
     "name": "stdout",
     "output_type": "stream",
     "text": [
      "MAE =  1.74\n",
      "MRAE =  27.84 %\n",
      "\n",
      "   label  pred  error   abs error\n",
      "0      5  3.67   1.33   26.599998\n",
      "1      9  8.82   0.18    2.000003\n",
      "2      2  7.32   5.32  266.000009\n",
      "3      9  8.87   0.13    1.444446\n"
     ]
    }
   ],
   "source": [
    "Predict(X_test, y_test)"
   ]
  },
  {
   "cell_type": "code",
   "execution_count": 98,
   "metadata": {},
   "outputs": [
    {
     "name": "stdout",
     "output_type": "stream",
     "text": [
      "MAE =  1.74\n",
      "MRAE =  27.84 %\n",
      "\n",
      "   label  pred  error   abs error\n",
      "0      5  3.67   1.33   26.599998\n",
      "1      9  8.82   0.18    2.000003\n",
      "2      2  7.32   5.32  266.000009\n",
      "3      9  8.87   0.13    1.444446\n"
     ]
    }
   ],
   "source": [
    "Predict(X_test, y_test)"
   ]
  },
  {
   "cell_type": "markdown",
   "metadata": {},
   "source": [
    "#### Keras LSTM n steps"
   ]
  },
  {
   "cell_type": "code",
   "execution_count": 224,
   "metadata": {},
   "outputs": [],
   "source": [
    "def get_LSTM_model(X_train):\n",
    "    model = tkm.Sequential()\n",
    "    model.add(tkl.LSTM(units=40, input_shape=(X_train.shape[1], X_train.shape[2])))\n",
    "    model.add(tkl.Dense(3))\n",
    "    model.compile(loss='mae', optimizer='adam')\n",
    "    return model"
   ]
  },
  {
   "cell_type": "code",
   "execution_count": 225,
   "metadata": {},
   "outputs": [
    {
     "name": "stdout",
     "output_type": "stream",
     "text": [
      "(15, 5) (15, 3) (4, 5) (4, 3)\n"
     ]
    }
   ],
   "source": [
    "ds = data[['t1', 't2', 't3', 't4', 't5', 'fcst1', 'fcst2', 'fcst3']]\n",
    "nvars=1\n",
    "nsteps=3\n",
    "mw=5\n",
    "X_train, y_train, X_test, y_test  = prep_train(ds, split_index=15, nvars=nvars, nsteps=nsteps)\n",
    "print(X_train.shape, y_train.shape, X_test.shape, y_test.shape)"
   ]
  },
  {
   "cell_type": "code",
   "execution_count": 226,
   "metadata": {},
   "outputs": [
    {
     "data": {
      "text/plain": [
       "((15, 5, 1), (15, 3), (4, 5, 1), (4, 3))"
      ]
     },
     "execution_count": 226,
     "metadata": {},
     "output_type": "execute_result"
    }
   ],
   "source": [
    "X_train_rsh, X_test_rsh = reshape4lstm(X_train, X_test, mw)\n",
    "X_train_rsh.shape, y_train.shape, X_test_rsh.shape, y_test.shape"
   ]
  },
  {
   "cell_type": "code",
   "execution_count": 227,
   "metadata": {},
   "outputs": [
    {
     "data": {
      "image/png": "[encoded data removed]",
      "text/plain": [
       "<Figure size 432x288 with 1 Axes>"
      ]
     },
     "metadata": {},
     "output_type": "display_data"
    }
   ],
   "source": [
    "model = get_LSTM_model(X_train_rsh)\n",
    "fit_model(model, X_train_rsh, y_train, X_test_rsh, y_test, 120)"
   ]
  },
  {
   "cell_type": "code",
   "execution_count": 228,
   "metadata": {},
   "outputs": [],
   "source": [
    "def Predict(features, features_rsh, labels):\n",
    "    pred = model.predict(features_rsh)\n",
    "    pred = pd.DataFrame(pred)\n",
    "    res = pd.DataFrame(features)\n",
    "    labels = pd.DataFrame(labels)\n",
    "    res = pd.concat([res, labels, pred], axis=1)\n",
    "    res.columns = ['hist1', 'hist2', 'hist3', 'hist4', 'hist5', 'fcst1', 'fcst2', 'fcst3', 'pred1', 'pred2', 'pred3']\n",
    "    res['err1'] = abs(res['fcst1'] - res['pred1'])\n",
    "    res['err2'] = abs(res['fcst2'] - res['pred2'])\n",
    "    res['err3'] = abs(res['fcst3'] - res['pred3'])\n",
    "    res = res.round(2)\n",
    "    print('MAE(1) = ',  round( (np.average(res['err1']))   ,2) , '\\t\\tMRAE(1) = ', round( (np.sum(res['err1'])/np.sum(res['fcst1'])*100)   ,2), '%\\n')\n",
    "    print('MAE(2) = ',  round( (np.average(res['err2']))   ,2) , '\\t\\tMRAE(2) = ', round( (np.sum(res['err2'])/np.sum(res['fcst2'])*100)   ,2), '%\\n')\n",
    "    print('MAE(3) = ',  round( (np.average(res['err3']))   ,2) , '\\t\\tMRAE(3) = ', round( (np.sum(res['err3'])/np.sum(res['fcst3'])*100)   ,2), '%\\n')\n",
    "    return res"
   ]
  },
  {
   "cell_type": "code",
   "execution_count": 229,
   "metadata": {},
   "outputs": [
    {
     "name": "stdout",
     "output_type": "stream",
     "text": [
      "MAE(1) =  0.26 \t\tMRAE(1) =  5.87 %\n",
      "\n",
      "MAE(2) =  0.5 \t\tMRAE(2) =  10.61 %\n",
      "\n",
      "MAE(3) =  0.97 \t\tMRAE(3) =  18.88 %\n",
      "\n"
     ]
    },
    {
     "data": {
      "text/html": [
       "<div>\n",
       "<style scoped>\n",
       "    .dataframe tbody tr th:only-of-type {\n",
       "        vertical-align: middle;\n",
       "    }\n",
       "\n",
       "    .dataframe tbody tr th {\n",
       "        vertical-align: top;\n",
       "    }\n",
       "\n",
       "    .dataframe thead th {\n",
       "        text-align: right;\n",
       "    }\n",
       "</style>\n",
       "<table border=\"1\" class=\"dataframe\">\n",
       "  <thead>\n",
       "    <tr style=\"text-align: right;\">\n",
       "      <th></th>\n",
       "      <th>hist1</th>\n",
       "      <th>hist2</th>\n",
       "      <th>hist3</th>\n",
       "      <th>hist4</th>\n",
       "      <th>hist5</th>\n",
       "      <th>fcst1</th>\n",
       "      <th>fcst2</th>\n",
       "      <th>fcst3</th>\n",
       "      <th>pred1</th>\n",
       "      <th>pred2</th>\n",
       "      <th>pred3</th>\n",
       "      <th>err1</th>\n",
       "      <th>err2</th>\n",
       "      <th>err3</th>\n",
       "    </tr>\n",
       "  </thead>\n",
       "  <tbody>\n",
       "    <tr>\n",
       "      <th>0</th>\n",
       "      <td>1</td>\n",
       "      <td>2</td>\n",
       "      <td>3</td>\n",
       "      <td>4</td>\n",
       "      <td>5</td>\n",
       "      <td>6</td>\n",
       "      <td>7</td>\n",
       "      <td>8</td>\n",
       "      <td>5.93</td>\n",
       "      <td>7.04</td>\n",
       "      <td>7.65</td>\n",
       "      <td>0.07</td>\n",
       "      <td>0.04</td>\n",
       "      <td>0.35</td>\n",
       "    </tr>\n",
       "    <tr>\n",
       "      <th>1</th>\n",
       "      <td>2</td>\n",
       "      <td>4</td>\n",
       "      <td>5</td>\n",
       "      <td>6</td>\n",
       "      <td>8</td>\n",
       "      <td>10</td>\n",
       "      <td>12</td>\n",
       "      <td>14</td>\n",
       "      <td>9.05</td>\n",
       "      <td>9.63</td>\n",
       "      <td>10.05</td>\n",
       "      <td>0.95</td>\n",
       "      <td>2.37</td>\n",
       "      <td>3.95</td>\n",
       "    </tr>\n",
       "    <tr>\n",
       "      <th>2</th>\n",
       "      <td>1</td>\n",
       "      <td>2</td>\n",
       "      <td>1</td>\n",
       "      <td>2</td>\n",
       "      <td>1</td>\n",
       "      <td>2</td>\n",
       "      <td>1</td>\n",
       "      <td>2</td>\n",
       "      <td>1.72</td>\n",
       "      <td>1.84</td>\n",
       "      <td>2.36</td>\n",
       "      <td>0.28</td>\n",
       "      <td>0.84</td>\n",
       "      <td>0.36</td>\n",
       "    </tr>\n",
       "    <tr>\n",
       "      <th>3</th>\n",
       "      <td>7</td>\n",
       "      <td>6</td>\n",
       "      <td>5</td>\n",
       "      <td>4</td>\n",
       "      <td>3</td>\n",
       "      <td>2</td>\n",
       "      <td>1</td>\n",
       "      <td>0</td>\n",
       "      <td>1.94</td>\n",
       "      <td>1.07</td>\n",
       "      <td>1.24</td>\n",
       "      <td>0.06</td>\n",
       "      <td>0.07</td>\n",
       "      <td>1.24</td>\n",
       "    </tr>\n",
       "    <tr>\n",
       "      <th>4</th>\n",
       "      <td>9</td>\n",
       "      <td>8</td>\n",
       "      <td>7</td>\n",
       "      <td>6</td>\n",
       "      <td>5</td>\n",
       "      <td>4</td>\n",
       "      <td>3</td>\n",
       "      <td>2</td>\n",
       "      <td>4.25</td>\n",
       "      <td>2.69</td>\n",
       "      <td>3.07</td>\n",
       "      <td>0.25</td>\n",
       "      <td>0.31</td>\n",
       "      <td>1.07</td>\n",
       "    </tr>\n",
       "    <tr>\n",
       "      <th>5</th>\n",
       "      <td>3</td>\n",
       "      <td>7</td>\n",
       "      <td>3</td>\n",
       "      <td>8</td>\n",
       "      <td>4</td>\n",
       "      <td>7</td>\n",
       "      <td>5</td>\n",
       "      <td>6</td>\n",
       "      <td>6.18</td>\n",
       "      <td>4.96</td>\n",
       "      <td>6.05</td>\n",
       "      <td>0.82</td>\n",
       "      <td>0.04</td>\n",
       "      <td>0.05</td>\n",
       "    </tr>\n",
       "    <tr>\n",
       "      <th>6</th>\n",
       "      <td>1</td>\n",
       "      <td>1</td>\n",
       "      <td>2</td>\n",
       "      <td>2</td>\n",
       "      <td>3</td>\n",
       "      <td>3</td>\n",
       "      <td>4</td>\n",
       "      <td>4</td>\n",
       "      <td>2.93</td>\n",
       "      <td>3.70</td>\n",
       "      <td>4.09</td>\n",
       "      <td>0.07</td>\n",
       "      <td>0.30</td>\n",
       "      <td>0.09</td>\n",
       "    </tr>\n",
       "    <tr>\n",
       "      <th>7</th>\n",
       "      <td>1</td>\n",
       "      <td>0</td>\n",
       "      <td>1</td>\n",
       "      <td>2</td>\n",
       "      <td>3</td>\n",
       "      <td>4</td>\n",
       "      <td>5</td>\n",
       "      <td>6</td>\n",
       "      <td>4.43</td>\n",
       "      <td>5.33</td>\n",
       "      <td>5.91</td>\n",
       "      <td>0.43</td>\n",
       "      <td>0.33</td>\n",
       "      <td>0.09</td>\n",
       "    </tr>\n",
       "    <tr>\n",
       "      <th>8</th>\n",
       "      <td>3</td>\n",
       "      <td>4</td>\n",
       "      <td>5</td>\n",
       "      <td>4</td>\n",
       "      <td>3</td>\n",
       "      <td>2</td>\n",
       "      <td>1</td>\n",
       "      <td>0</td>\n",
       "      <td>1.95</td>\n",
       "      <td>1.48</td>\n",
       "      <td>1.98</td>\n",
       "      <td>0.05</td>\n",
       "      <td>0.48</td>\n",
       "      <td>1.98</td>\n",
       "    </tr>\n",
       "    <tr>\n",
       "      <th>9</th>\n",
       "      <td>1</td>\n",
       "      <td>1</td>\n",
       "      <td>2</td>\n",
       "      <td>2</td>\n",
       "      <td>3</td>\n",
       "      <td>3</td>\n",
       "      <td>4</td>\n",
       "      <td>4</td>\n",
       "      <td>2.93</td>\n",
       "      <td>3.70</td>\n",
       "      <td>4.09</td>\n",
       "      <td>0.07</td>\n",
       "      <td>0.30</td>\n",
       "      <td>0.09</td>\n",
       "    </tr>\n",
       "    <tr>\n",
       "      <th>10</th>\n",
       "      <td>1</td>\n",
       "      <td>1</td>\n",
       "      <td>1</td>\n",
       "      <td>2</td>\n",
       "      <td>3</td>\n",
       "      <td>4</td>\n",
       "      <td>5</td>\n",
       "      <td>6</td>\n",
       "      <td>4.08</td>\n",
       "      <td>4.98</td>\n",
       "      <td>5.40</td>\n",
       "      <td>0.08</td>\n",
       "      <td>0.02</td>\n",
       "      <td>0.60</td>\n",
       "    </tr>\n",
       "    <tr>\n",
       "      <th>11</th>\n",
       "      <td>1</td>\n",
       "      <td>2</td>\n",
       "      <td>2</td>\n",
       "      <td>2</td>\n",
       "      <td>2</td>\n",
       "      <td>2</td>\n",
       "      <td>2</td>\n",
       "      <td>2</td>\n",
       "      <td>1.64</td>\n",
       "      <td>2.06</td>\n",
       "      <td>2.40</td>\n",
       "      <td>0.36</td>\n",
       "      <td>0.06</td>\n",
       "      <td>0.40</td>\n",
       "    </tr>\n",
       "    <tr>\n",
       "      <th>12</th>\n",
       "      <td>2</td>\n",
       "      <td>3</td>\n",
       "      <td>4</td>\n",
       "      <td>5</td>\n",
       "      <td>6</td>\n",
       "      <td>7</td>\n",
       "      <td>8</td>\n",
       "      <td>9</td>\n",
       "      <td>7.12</td>\n",
       "      <td>7.98</td>\n",
       "      <td>8.52</td>\n",
       "      <td>0.12</td>\n",
       "      <td>0.02</td>\n",
       "      <td>0.48</td>\n",
       "    </tr>\n",
       "    <tr>\n",
       "      <th>13</th>\n",
       "      <td>4</td>\n",
       "      <td>5</td>\n",
       "      <td>1</td>\n",
       "      <td>2</td>\n",
       "      <td>4</td>\n",
       "      <td>6</td>\n",
       "      <td>8</td>\n",
       "      <td>10</td>\n",
       "      <td>6.05</td>\n",
       "      <td>6.34</td>\n",
       "      <td>6.46</td>\n",
       "      <td>0.05</td>\n",
       "      <td>1.66</td>\n",
       "      <td>3.54</td>\n",
       "    </tr>\n",
       "    <tr>\n",
       "      <th>14</th>\n",
       "      <td>7</td>\n",
       "      <td>7</td>\n",
       "      <td>6</td>\n",
       "      <td>6</td>\n",
       "      <td>5</td>\n",
       "      <td>5</td>\n",
       "      <td>4</td>\n",
       "      <td>4</td>\n",
       "      <td>4.73</td>\n",
       "      <td>3.41</td>\n",
       "      <td>3.75</td>\n",
       "      <td>0.27</td>\n",
       "      <td>0.59</td>\n",
       "      <td>0.25</td>\n",
       "    </tr>\n",
       "  </tbody>\n",
       "</table>\n",
       "</div>"
      ],
      "text/plain": [
       "    hist1  hist2  hist3  hist4  hist5  fcst1  fcst2  fcst3  pred1  pred2  \\\n",
       "0       1      2      3      4      5      6      7      8   5.93   7.04   \n",
       "1       2      4      5      6      8     10     12     14   9.05   9.63   \n",
       "2       1      2      1      2      1      2      1      2   1.72   1.84   \n",
       "3       7      6      5      4      3      2      1      0   1.94   1.07   \n",
       "4       9      8      7      6      5      4      3      2   4.25   2.69   \n",
       "5       3      7      3      8      4      7      5      6   6.18   4.96   \n",
       "6       1      1      2      2      3      3      4      4   2.93   3.70   \n",
       "7       1      0      1      2      3      4      5      6   4.43   5.33   \n",
       "8       3      4      5      4      3      2      1      0   1.95   1.48   \n",
       "9       1      1      2      2      3      3      4      4   2.93   3.70   \n",
       "10      1      1      1      2      3      4      5      6   4.08   4.98   \n",
       "11      1      2      2      2      2      2      2      2   1.64   2.06   \n",
       "12      2      3      4      5      6      7      8      9   7.12   7.98   \n",
       "13      4      5      1      2      4      6      8     10   6.05   6.34   \n",
       "14      7      7      6      6      5      5      4      4   4.73   3.41   \n",
       "\n",
       "    pred3  err1  err2  err3  \n",
       "0    7.65  0.07  0.04  0.35  \n",
       "1   10.05  0.95  2.37  3.95  \n",
       "2    2.36  0.28  0.84  0.36  \n",
       "3    1.24  0.06  0.07  1.24  \n",
       "4    3.07  0.25  0.31  1.07  \n",
       "5    6.05  0.82  0.04  0.05  \n",
       "6    4.09  0.07  0.30  0.09  \n",
       "7    5.91  0.43  0.33  0.09  \n",
       "8    1.98  0.05  0.48  1.98  \n",
       "9    4.09  0.07  0.30  0.09  \n",
       "10   5.40  0.08  0.02  0.60  \n",
       "11   2.40  0.36  0.06  0.40  \n",
       "12   8.52  0.12  0.02  0.48  \n",
       "13   6.46  0.05  1.66  3.54  \n",
       "14   3.75  0.27  0.59  0.25  "
      ]
     },
     "execution_count": 229,
     "metadata": {},
     "output_type": "execute_result"
    }
   ],
   "source": [
    "res = Predict(X_train, X_train_rsh, y_train)\n",
    "res"
   ]
  },
  {
   "cell_type": "code",
   "execution_count": 230,
   "metadata": {},
   "outputs": [
    {
     "name": "stdout",
     "output_type": "stream",
     "text": [
      "MAE(1) =  1.31 \t\tMRAE(1) =  21.0 %\n",
      "\n",
      "MAE(2) =  0.63 \t\tMRAE(2) =  9.04 %\n",
      "\n",
      "MAE(3) =  1.5 \t\tMRAE(3) =  22.19 %\n",
      "\n"
     ]
    },
    {
     "data": {
      "text/html": [
       "<div>\n",
       "<style scoped>\n",
       "    .dataframe tbody tr th:only-of-type {\n",
       "        vertical-align: middle;\n",
       "    }\n",
       "\n",
       "    .dataframe tbody tr th {\n",
       "        vertical-align: top;\n",
       "    }\n",
       "\n",
       "    .dataframe thead th {\n",
       "        text-align: right;\n",
       "    }\n",
       "</style>\n",
       "<table border=\"1\" class=\"dataframe\">\n",
       "  <thead>\n",
       "    <tr style=\"text-align: right;\">\n",
       "      <th></th>\n",
       "      <th>hist1</th>\n",
       "      <th>hist2</th>\n",
       "      <th>hist3</th>\n",
       "      <th>hist4</th>\n",
       "      <th>hist5</th>\n",
       "      <th>fcst1</th>\n",
       "      <th>fcst2</th>\n",
       "      <th>fcst3</th>\n",
       "      <th>pred1</th>\n",
       "      <th>pred2</th>\n",
       "      <th>pred3</th>\n",
       "      <th>err1</th>\n",
       "      <th>err2</th>\n",
       "      <th>err3</th>\n",
       "    </tr>\n",
       "  </thead>\n",
       "  <tbody>\n",
       "    <tr>\n",
       "      <th>0</th>\n",
       "      <td>4</td>\n",
       "      <td>6</td>\n",
       "      <td>4</td>\n",
       "      <td>6</td>\n",
       "      <td>3</td>\n",
       "      <td>5</td>\n",
       "      <td>3</td>\n",
       "      <td>5</td>\n",
       "      <td>3.99</td>\n",
       "      <td>2.62</td>\n",
       "      <td>3.51</td>\n",
       "      <td>1.01</td>\n",
       "      <td>0.38</td>\n",
       "      <td>1.49</td>\n",
       "    </tr>\n",
       "    <tr>\n",
       "      <th>1</th>\n",
       "      <td>7</td>\n",
       "      <td>7</td>\n",
       "      <td>8</td>\n",
       "      <td>8</td>\n",
       "      <td>9</td>\n",
       "      <td>9</td>\n",
       "      <td>10</td>\n",
       "      <td>10</td>\n",
       "      <td>8.93</td>\n",
       "      <td>8.27</td>\n",
       "      <td>8.25</td>\n",
       "      <td>0.07</td>\n",
       "      <td>1.73</td>\n",
       "      <td>1.75</td>\n",
       "    </tr>\n",
       "    <tr>\n",
       "      <th>2</th>\n",
       "      <td>9</td>\n",
       "      <td>0</td>\n",
       "      <td>8</td>\n",
       "      <td>1</td>\n",
       "      <td>7</td>\n",
       "      <td>2</td>\n",
       "      <td>6</td>\n",
       "      <td>3</td>\n",
       "      <td>5.91</td>\n",
       "      <td>5.80</td>\n",
       "      <td>5.63</td>\n",
       "      <td>3.91</td>\n",
       "      <td>0.20</td>\n",
       "      <td>2.63</td>\n",
       "    </tr>\n",
       "    <tr>\n",
       "      <th>3</th>\n",
       "      <td>5</td>\n",
       "      <td>6</td>\n",
       "      <td>7</td>\n",
       "      <td>9</td>\n",
       "      <td>9</td>\n",
       "      <td>9</td>\n",
       "      <td>9</td>\n",
       "      <td>9</td>\n",
       "      <td>9.26</td>\n",
       "      <td>8.78</td>\n",
       "      <td>8.88</td>\n",
       "      <td>0.26</td>\n",
       "      <td>0.22</td>\n",
       "      <td>0.12</td>\n",
       "    </tr>\n",
       "  </tbody>\n",
       "</table>\n",
       "</div>"
      ],
      "text/plain": [
       "   hist1  hist2  hist3  hist4  hist5  fcst1  fcst2  fcst3  pred1  pred2  \\\n",
       "0      4      6      4      6      3      5      3      5   3.99   2.62   \n",
       "1      7      7      8      8      9      9     10     10   8.93   8.27   \n",
       "2      9      0      8      1      7      2      6      3   5.91   5.80   \n",
       "3      5      6      7      9      9      9      9      9   9.26   8.78   \n",
       "\n",
       "   pred3  err1  err2  err3  \n",
       "0   3.51  1.01  0.38  1.49  \n",
       "1   8.25  0.07  1.73  1.75  \n",
       "2   5.63  3.91  0.20  2.63  \n",
       "3   8.88  0.26  0.22  0.12  "
      ]
     },
     "execution_count": 230,
     "metadata": {},
     "output_type": "execute_result"
    }
   ],
   "source": [
    "res = Predict(X_test, X_test_rsh, y_test)\n",
    "res"
   ]
  },
  {
   "cell_type": "code",
   "execution_count": 231,
   "metadata": {},
   "outputs": [],
   "source": [
    "res.to_csv('toy_test.csv')"
   ]
  },
  {
   "cell_type": "code",
   "execution_count": null,
   "metadata": {},
   "outputs": [],
   "source": []
  }
 ],
 "metadata": {
  "kernelspec": {
   "display_name": "Python 3.8.1 64-bit",
   "language": "python",
   "name": "python38164bitc33de82c9da04edea88eb124459bf44a"
  },
  "language_info": {
   "codemirror_mode": {
    "name": "ipython",
    "version": 3
   },
   "file_extension": ".py",
   "mimetype": "text/x-python",
   "name": "python",
   "nbconvert_exporter": "python",
   "pygments_lexer": "ipython3",
   "version": "3.8.6"
  }
 },
 "nbformat": 4,
 "nbformat_minor": 4
}
