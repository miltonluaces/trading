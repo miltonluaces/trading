{
 "cells": [
  {
   "cell_type": "markdown",
   "metadata": {},
   "source": [
    "# Predictive model"
   ]
  },
  {
   "cell_type": "code",
   "execution_count": null,
   "metadata": {},
   "outputs": [],
   "source": [
    "import sys\n",
    "sys.path.append('D:/source/repos')\n",
    "from utilities.std_imports import *\n",
    "\n",
    "from datetime import datetime\n",
    "from sklearn.neural_network import MLPRegressor\n",
    "from sklearn.model_selection import train_test_split\n",
    "from sklearn.metrics import mean_squared_error\n",
    "from sklearn.metrics import r2_score\n",
    "import tensorflow.keras.models as tkm\n",
    "import tensorflow.keras.layers as tkl\n",
    "import trading.utils.SurfTrading as st\n",
    "from mlfs.utils.LSTM import *\n",
    "from ds_topics.utils.data_balance import *"
   ]
  },
  {
   "cell_type": "markdown",
   "metadata": {},
   "source": [
    "### Model"
   ]
  },
  {
   "cell_type": "code",
   "execution_count": null,
   "metadata": {},
   "outputs": [],
   "source": [
    "def get_LSTM_model(X_train):\n",
    "    model = tkm.Sequential()\n",
    "    model.add(tkl.LSTM(units=50, input_shape=(X_train.shape[1], X_train.shape[2])))\n",
    "    model.add(tkl.Dense(1))\n",
    "    model.compile(loss='mae', optimizer='adam')\n",
    "    return model\n",
    "\n",
    "def fit_model(model, X_train, y_train, X_test, y_test, verbose=0):\n",
    "    history = model.fit(X_train, y_train, epochs=10, batch_size=72, validation_data=(X_test, y_test), verbose=verbose, shuffle=False)\n",
    "    plt.plot(history.history['loss'], label='train')\n",
    "    plt.plot(history.history['val_loss'], label='test')\n",
    "    plt.legend()\n",
    "    plt.show()\n",
    "    \n",
    "def predict(model, X_test, y_test, rows):\n",
    "    pred = model.predict(X_test)\n",
    "    res = pd.DataFrame(y_test[:,0], columns=['real'])\n",
    "    res['pred'] = np.round(pred)\n",
    "    return res.head(rows)"
   ]
  },
  {
   "cell_type": "markdown",
   "metadata": {},
   "source": [
    "### Testing"
   ]
  },
  {
   "cell_type": "markdown",
   "metadata": {},
   "source": [
    "#### Data Loading"
   ]
  },
  {
   "cell_type": "code",
   "execution_count": null,
   "metadata": {},
   "outputs": [],
   "source": [
    "ts = st.get_rtdata('ACN')\n",
    "plt.figure(figsize=(20, 10));\n",
    "ts.plot();\n",
    "pd.DataFrame(ts).head(20)"
   ]
  },
  {
   "cell_type": "code",
   "execution_count": null,
   "metadata": {},
   "outputs": [],
   "source": [
    "ds = st.GenTrendDs(ts=ts, start=0, nHist=15, nFcst=15, tpVar=0.2, slVar=0.2, incFcst=False)\n",
    "ds.to_csv('train.csv')\n",
    "ds"
   ]
  },
  {
   "cell_type": "code",
   "execution_count": null,
   "metadata": {},
   "outputs": [],
   "source": [
    "catlabel_dist(ds, 'Trend')"
   ]
  },
  {
   "cell_type": "code",
   "execution_count": null,
   "metadata": {},
   "outputs": [],
   "source": [
    "numlabel_dist(ds, 'H1')"
   ]
  },
  {
   "cell_type": "code",
   "execution_count": null,
   "metadata": {},
   "outputs": [],
   "source": []
  }
 ],
 "metadata": {
  "kernelspec": {
   "display_name": "Python 3.8.1 64-bit",
   "language": "python",
   "name": "python38164bitc33de82c9da04edea88eb124459bf44a"
  },
  "language_info": {
   "codemirror_mode": {
    "name": "ipython",
    "version": 3
   },
   "file_extension": ".py",
   "mimetype": "text/x-python",
   "name": "python",
   "nbconvert_exporter": "python",
   "pygments_lexer": "ipython3",
   "version": "3.8.6"
  }
 },
 "nbformat": 4,
 "nbformat_minor": 4
}
