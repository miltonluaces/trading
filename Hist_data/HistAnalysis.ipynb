{
 "cells": [
  {
   "cell_type": "code",
   "execution_count": 1,
   "metadata": {},
   "outputs": [],
   "source": [
    "import numpy as np\n",
    "import pandas as pd\n",
    "import matplotlib.pyplot as plt\n",
    "import matplotlib.dates as mdates\n",
    "%matplotlib inline\n",
    "import seaborn as sb; sb.set()\n",
    "from dateutil import parser\n",
    "from datetime import datetime\n",
    "from Trading.Funds.VisualFunds import VisualFunds\n",
    "from Trading.Funds.DBMgr import DBMgr"
   ]
  },
  {
   "cell_type": "code",
   "execution_count": 6,
   "metadata": {},
   "outputs": [],
   "source": [
    "db = DBMgr()\n",
    "vf = VisualFunds()"
   ]
  },
  {
   "cell_type": "code",
   "execution_count": 1,
   "metadata": {},
   "outputs": [
    {
     "ename": "NameError",
     "evalue": "name 'ShowTs' is not defined",
     "output_type": "error",
     "traceback": [
      "\u001b[1;31m---------------------------------------------------------------------------\u001b[0m",
      "\u001b[1;31mNameError\u001b[0m                                 Traceback (most recent call last)",
      "\u001b[1;32m<ipython-input-1-d0d3ddeefdbb>\u001b[0m in \u001b[0;36m<module>\u001b[1;34m\u001b[0m\n\u001b[0;32m      1\u001b[0m \u001b[0misin\u001b[0m \u001b[1;33m=\u001b[0m \u001b[1;34m'LU0260869739'\u001b[0m\u001b[1;33m\u001b[0m\u001b[1;33m\u001b[0m\u001b[0m\n\u001b[1;32m----> 2\u001b[1;33m \u001b[0mShowTs\u001b[0m\u001b[1;33m(\u001b[0m\u001b[0misin\u001b[0m\u001b[1;33m)\u001b[0m\u001b[1;33m\u001b[0m\u001b[1;33m\u001b[0m\u001b[0m\n\u001b[0m",
      "\u001b[1;31mNameError\u001b[0m: name 'ShowTs' is not defined"
     ]
    }
   ],
   "source": [
    "isin = 'LU0260869739'\n",
    "#ShowTs(isin)"
   ]
  },
  {
   "cell_type": "code",
   "execution_count": 8,
   "metadata": {},
   "outputs": [
    {
     "data": {
      "text/plain": [
       "[['LU1684797787', 'CS (Lux) High Yield USD Bond B'],\n",
       " ['LU0260869739', 'Franklin US Opps Fund A (acc)'],\n",
       " ['LU0048365026', 'CS Invm 11 Small&Mid Cap EU B'],\n",
       " ['LU0171310443', 'Blackrock GF World Tech'],\n",
       " ['LU0503631714', 'Pictet Global Envirnom. Opp P'],\n",
       " ['LU0260870158', 'Franklin Technology Fund A'],\n",
       " ['LU0306632414', 'St Life Global EU Small Cp A'],\n",
       " ['IE00B530N462', 'AXA Rosenberg Alpha Trust B'],\n",
       " ['LU0049842262', 'UBS (Lux) Equity - Mid Caps'],\n",
       " ['LU0026741651', 'GAM Multi stock Swiss CHF B'],\n",
       " ['ES0173394034', 'Renta 4 Bolsa R FI'],\n",
       " ['LU0097036916', 'Blackrock Global-US Growth A2'],\n",
       " ['LU1731833304', 'Fidelity Glob Short Income A'],\n",
       " ['LU0050372472', 'Blackrock Glob Euro Bond A2'],\n",
       " ['IE00B03HCZ61', 'Vanguard GB ST IX'],\n",
       " ['LU0243957742', 'Invesco Pan EU High Income E'],\n",
       " ['LU0335216932', 'Morgan Stanley Glob Brands AH'],\n",
       " ['LU0087412390', 'DWS Concept DJE Alpha LC'],\n",
       " ['LU0366534344', 'Pictet Nutrition P EUR'],\n",
       " ['LU0011963328', 'Aberdeen SICAV Australia A'],\n",
       " ['DE0008490962', 'DSW Deutschland LC'],\n",
       " ['IE0002639668', 'Vanguard US 500 Stock Index'],\n",
       " ['LU0072913022', 'UBS (Lux) Greater China P'],\n",
       " ['LU0094560744', 'MFS Meridian Global Equity A1'],\n",
       " ['LU1594335520', 'Allianz Dyn Multi Str 75 AT'],\n",
       " ['LU0386882277', 'Pictet Global Megatrend Sel P'],\n",
       " ['LU0267388220', 'Fidelity Euro Short Term A Ac']]"
      ]
     },
     "execution_count": 8,
     "metadata": {},
     "output_type": "execute_result"
    }
   ],
   "source": [
    "iic = db.GetInvestIsinNames(1)\n",
    "iic"
   ]
  },
  {
   "cell_type": "code",
   "execution_count": null,
   "metadata": {},
   "outputs": [],
   "source": [
    "isins = ['LU0260869739', 'LU0503631714', 'LU0171310443','LU0048365026']\n",
    "names = ['Franklin US Opps Fund A (acc)', 'Pictet Global Envirnom. Opp P', 'Blackrock GF World Tech', 'CS Invm 11 Small&Mid Cap EU B']\n",
    "for i in range(len(isins)):\n",
    "   vf.ShowTs(isins[i], names[i])"
   ]
  },
  {
   "cell_type": "markdown",
   "metadata": {},
   "source": [
    "# "
   ]
  },
  {
   "cell_type": "code",
   "execution_count": null,
   "metadata": {},
   "outputs": [],
   "source": [
    "for i in range(len(iic)):\n",
    "   vf.ShowTs(iic[i][0], iic[i][1])"
   ]
  },
  {
   "cell_type": "code",
   "execution_count": null,
   "metadata": {},
   "outputs": [],
   "source": []
  }
 ],
 "metadata": {
  "kernelspec": {
   "display_name": "Python 3",
   "language": "python",
   "name": "python3"
  },
  "language_info": {
   "codemirror_mode": {
    "name": "ipython",
    "version": 3
   },
   "file_extension": ".py",
   "mimetype": "text/x-python",
   "name": "python",
   "nbconvert_exporter": "python",
   "pygments_lexer": "ipython3",
   "version": "3.8.1"
  }
 },
 "nbformat": 4,
 "nbformat_minor": 4
}
