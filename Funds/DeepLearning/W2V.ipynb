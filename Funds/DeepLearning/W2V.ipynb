{
 "cells": [
  {
   "cell_type": "markdown",
   "metadata": {},
   "source": [
    "### Imports"
   ]
  },
  {
   "cell_type": "code",
   "execution_count": null,
   "metadata": {},
   "outputs": [],
   "source": [
    "import numpy as np\n",
    "import pandas as pd\n",
    "from nltk import sent_tokenize, word_tokenize \n",
    "import gensim \n",
    "from gensim.models import Word2Vec \n",
    "import warnings \n",
    "warnings.filterwarnings(action = 'ignore') "
   ]
  },
  {
   "cell_type": "code",
   "execution_count": null,
   "metadata": {},
   "outputs": [],
   "source": [
    "df= pd.read_csv(\"D:/source/repos/Trading/Funds/DeepLearning/proteins.csv\")\n",
    "df = df[:][['proteins_sequences', 'antigen']]\n",
    "df"
   ]
  },
  {
   "cell_type": "code",
   "execution_count": null,
   "metadata": {},
   "outputs": [],
   "source": [
    "df = df[:][['proteins_sequences', 'antigen']]"
   ]
  },
  {
   "cell_type": "code",
   "execution_count": null,
   "metadata": {},
   "outputs": [],
   "source": [
    "prot = df.iloc[0][0]\n",
    "for ch in prot:\n",
    "    print(ch)"
   ]
  },
  {
   "cell_type": "code",
   "execution_count": null,
   "metadata": {},
   "outputs": [],
   "source": [
    "prots = df.iloc[:]['proteins_sequences']"
   ]
  },
  {
   "cell_type": "code",
   "execution_count": null,
   "metadata": {},
   "outputs": [],
   "source": [
    "# Tokenize\n",
    "data = [] \n",
    "for prot in prots: \n",
    "    sent = [] \n",
    "    for j in prot: \n",
    "        sent.append(j) \n",
    "        data.append(sent) \n",
    "\n",
    "data\n",
    "\n",
    "# Create CBOW model \n",
    "model1 = gensim.models.Word2Vec(data, min_count=1, size=100, window=5) \n",
    "\n",
    "# Results\n",
    "print(\"CBOW results\")\n",
    "print(\"Similarity(M, M) : \",  model1.similarity('M', 'M')) \n",
    "print(\"Similarity(M, K): \", model1.similarity('M', 'K')) \n",
    "\n",
    "# Create Skip Gram model \n",
    "#model2 = gensim.models.Word2Vec(data, min_count=1, size=100, window=5, sg=1) \n",
    "\n",
    "# Print results \n",
    "#print(\"Similarity(alice, wonderland) : \",  model2.similarity('alice', 'wonderland')) \n",
    "#print(\"Similarity(alice, machines): \", model2.similarity('alice', 'machines')) \n"
   ]
  },
  {
   "cell_type": "code",
   "execution_count": null,
   "metadata": {},
   "outputs": [],
   "source": [
    "model1['M']"
   ]
  },
  {
   "cell_type": "code",
   "execution_count": null,
   "metadata": {},
   "outputs": [],
   "source": []
  }
 ],
 "metadata": {
  "kernelspec": {
   "display_name": "Python 3",
   "language": "python",
   "name": "python3"
  },
  "language_info": {
   "codemirror_mode": {
    "name": "ipython",
    "version": 3
   },
   "file_extension": ".py",
   "mimetype": "text/x-python",
   "name": "python",
   "nbconvert_exporter": "python",
   "pygments_lexer": "ipython3",
   "version": "3.8.6"
  }
 },
 "nbformat": 4,
 "nbformat_minor": 4
}
