{
 "cells": [
  {
   "cell_type": "markdown",
   "metadata": {},
   "source": [
    "### Imports"
   ]
  },
  {
   "cell_type": "code",
   "execution_count": null,
   "metadata": {},
   "outputs": [],
   "source": [
    "import numpy as np\n",
    "import pandas as pd\n",
    "from nltk import sent_tokenize, word_tokenize \n",
    "import gensim \n",
    "from gensim.models import Word2Vec \n",
    "import warnings \n",
    "warnings.filterwarnings(action = 'ignore') "
   ]
  },
  {
   "cell_type": "code",
   "execution_count": null,
   "metadata": {},
   "outputs": [],
   "source": [
    "df= pd.read_csv(\"D:/source/repos/Trading/Funds/DeepLearning/proteins.csv\")\n",
    "df = df[:][['proteins_sequences', 'antigen']]\n",
    "df"
   ]
  },
  {
   "cell_type": "code",
   "execution_count": null,
   "metadata": {},
   "outputs": [],
   "source": [
    "df = df[:][['proteins_sequences', 'antigen']]"
   ]
  },
  {
   "cell_type": "code",
   "execution_count": null,
   "metadata": {},
   "outputs": [],
   "source": [
    "prot = df.iloc[0][0]\n",
    "for ch in prot:\n",
    "    print(ch)"
   ]
  },
  {
   "cell_type": "code",
   "execution_count": null,
   "metadata": {},
   "outputs": [],
   "source": [
    "prots = df.iloc[:]['proteins_sequences']"
   ]
  },
  {
   "cell_type": "code",
   "execution_count": 33,
   "metadata": {},
   "outputs": [
    {
     "name": "stdout",
     "output_type": "stream",
     "text": [
      "CBOW results\n",
      "Similarity(M, M) :  1.0\n",
      "Similarity(M, K):  0.055051647\n"
     ]
    }
   ],
   "source": [
    "# Tokenize\n",
    "data = [] \n",
    "for prot in prots: \n",
    "    sent = [] \n",
    "    for j in prot: \n",
    "        sent.append(j) \n",
    "        data.append(sent) \n",
    "\n",
    "data\n",
    "\n",
    "# Create CBOW model \n",
    "model1 = gensim.models.Word2Vec(data, min_count=1, size=100, window=5) \n",
    "\n",
    "# Results\n",
    "print(\"CBOW results\")\n",
    "print(\"Similarity(M, M) : \",  model1.similarity('M', 'M')) \n",
    "print(\"Similarity(M, K): \", model1.similarity('M', 'K')) \n",
    "\n",
    "# Create Skip Gram model \n",
    "#model2 = gensim.models.Word2Vec(data, min_count=1, size=100, window=5, sg=1) \n",
    "\n",
    "# Print results \n",
    "#print(\"Similarity(alice, wonderland) : \",  model2.similarity('alice', 'wonderland')) \n",
    "#print(\"Similarity(alice, machines): \", model2.similarity('alice', 'machines')) \n"
   ]
  },
  {
   "cell_type": "code",
   "execution_count": 36,
   "metadata": {},
   "outputs": [
    {
     "data": {
      "text/plain": [
       "array([-0.67922574,  1.6251968 ,  0.42520744,  0.6712405 ,  2.2335432 ,\n",
       "       -3.2773535 ,  1.3883591 ,  0.34547234, -0.32060358,  1.7997501 ,\n",
       "        1.4099674 ,  1.1726767 ,  1.0134274 , -1.8766869 ,  0.14439395,\n",
       "        0.9725902 , -1.1215373 , -0.56139594, -0.39925918,  1.2632614 ,\n",
       "        0.09219925, -0.54613173, -0.20433025,  1.7395424 ,  0.8378148 ,\n",
       "        0.45329535,  0.36910775,  0.6041935 , -0.71799415, -0.8068558 ,\n",
       "        0.67306167,  0.7755972 ,  0.27158982,  0.13852602, -0.64459777,\n",
       "       -1.0747641 ,  0.03609264, -1.3806213 , -0.7305693 , -0.17967448,\n",
       "       -0.5661186 , -0.83057296,  0.10119949, -0.47554356,  1.250882  ,\n",
       "        0.5260085 , -1.4104345 ,  1.3575718 , -0.38290554, -0.5728543 ,\n",
       "        1.1847775 , -0.55780226, -1.0576092 ,  0.5054005 ,  1.0049684 ,\n",
       "       -0.19960243,  1.957596  , -1.3958099 ,  0.7628798 ,  0.06253017,\n",
       "        0.61764765, -0.03759105, -0.05420109, -1.1333935 ,  1.1555368 ,\n",
       "        0.20821702,  0.41759223,  0.1942074 ,  1.6754155 ,  0.28338242,\n",
       "       -1.2019755 ,  1.534749  , -0.10445347, -0.22347522, -0.05714133,\n",
       "        1.9782081 , -1.3001612 ,  1.1815442 ,  0.7675693 ,  0.32438064,\n",
       "        0.6776575 , -1.1763754 , -1.1104573 , -0.08150847, -0.31680125,\n",
       "        0.10554866, -0.13659434, -0.60490435, -0.38790333, -1.1246982 ,\n",
       "        0.17477144,  1.0009674 ,  1.272441  ,  0.4346393 ,  0.5202519 ,\n",
       "       -0.8153508 ,  0.39868295,  0.6774454 , -3.7932014 ,  0.660661  ],\n",
       "      dtype=float32)"
      ]
     },
     "execution_count": 36,
     "metadata": {},
     "output_type": "execute_result"
    }
   ],
   "source": [
    "model1['M']"
   ]
  },
  {
   "cell_type": "code",
   "execution_count": null,
   "metadata": {},
   "outputs": [],
   "source": []
  }
 ],
 "metadata": {
  "kernelspec": {
   "display_name": "Python 3",
   "language": "python",
   "name": "python3"
  },
  "language_info": {
   "codemirror_mode": {
    "name": "ipython",
    "version": 3
   },
   "file_extension": ".py",
   "mimetype": "text/x-python",
   "name": "python",
   "nbconvert_exporter": "python",
   "pygments_lexer": "ipython3",
   "version": "3.6.6"
  }
 },
 "nbformat": 4,
 "nbformat_minor": 2
}
