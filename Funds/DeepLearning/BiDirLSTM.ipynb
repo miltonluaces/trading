{
 "cells": [
  {
   "cell_type": "markdown",
   "metadata": {},
   "source": [
    "## Bi Directional LSTM"
   ]
  },
  {
   "cell_type": "markdown",
   "metadata": {},
   "source": [
    "### Imports"
   ]
  },
  {
   "cell_type": "code",
   "execution_count": null,
   "metadata": {},
   "outputs": [],
   "source": [
    "import tensorflow as tf\n",
    "from random import random\n",
    "from numpy import array\n",
    "from numpy import cumsum\n",
    "from matplotlib import pyplot\n",
    "from pandas import DataFrame\n",
    "from tensorflow.keras.models import Sequential\n",
    "from tensorflow.keras.layers import LSTM\n",
    "from tensorflow.keras.layers import Dense\n",
    "from tensorflow.keras.layers import TimeDistributed\n",
    "from tensorflow.keras.layers import Bidirectional"
   ]
  },
  {
   "cell_type": "markdown",
   "metadata": {},
   "source": [
    "### Data generation"
   ]
  },
  {
   "cell_type": "code",
   "execution_count": null,
   "metadata": {},
   "outputs": [],
   "source": [
    "def generate_sequence(n_timesteps):\n",
    "    # create a sequence of random numbers in [0,1]\n",
    "    X = array([random() for _ in range(n_timesteps)])\n",
    "    # calculate cut-off value to change class values\n",
    "    limit = n_timesteps/4.0\n",
    "    # determine the class outcome for each item in cumulative sequence\n",
    "    y = array([0 if x < limit else 1 for x in cumsum(X)])\n",
    "    # reshape input and output data to be suitable for LSTMs\n",
    "    X = X.reshape(1, n_timesteps, 1)\n",
    "    y = y.reshape(1, n_timesteps, 1)\n",
    "    return X, y"
   ]
  },
  {
   "cell_type": "markdown",
   "metadata": {},
   "source": [
    "### LSTM For Sequence Classification"
   ]
  },
  {
   "cell_type": "code",
   "execution_count": null,
   "metadata": {},
   "outputs": [],
   "source": [
    "# create\n",
    "n=10\n",
    "model = Sequential()\n",
    "model.add(LSTM(20, input_shape=(n, 1), return_sequences=True))\n",
    "model.add(TimeDistributed(Dense(1, activation='sigmoid')))\n",
    "model.compile(loss='binary_crossentropy', optimizer='adam', metrics=['acc'])\n",
    "\n",
    "# train \n",
    "for epoch in range(1000):\n",
    "    X,y = generate_sequence(n)\n",
    "    model.fit(X, y, epochs=1, batch_size=1, verbose=2)\n",
    "\n",
    "# predict \n",
    "X,y = generate_sequence(n)\n",
    "yPred = model.predict_classes(X, verbose=0)\n",
    "\n",
    "for i in range(n):\n",
    "    print('Expected:', y[0, i], ' Predicted:', yPred[0, i])"
   ]
  },
  {
   "cell_type": "markdown",
   "metadata": {},
   "source": [
    "### Bidirectional LSTM For Sequence Classification"
   ]
  },
  {
   "cell_type": "code",
   "execution_count": null,
   "metadata": {},
   "outputs": [],
   "source": [
    "# create\n",
    "n=10\n",
    "model = Sequential()\n",
    "model.add(Bidirectional(LSTM(20, return_sequences=True), input_shape=(n_timesteps, 1)))\n",
    "model.add(TimeDistributed(Dense(1, activation='sigmoid')))\n",
    "model.compile(loss='binary_crossentropy', optimizer='adam', metrics=['acc'])\n",
    "\n",
    "# train \n",
    "for epoch in range(1000):\n",
    "    X,y = generate_sequence(n)\n",
    "    model.fit(X, y, epochs=1, batch_size=1, verbose=2)\n",
    "\n",
    "# predict\n",
    "X,y = generate_sequence(n)\n",
    "yPred = model.predict_classes(X, verbose=0)\n",
    "for i in range(n_timesteps):\n",
    "    print('Expected:', y[0, i], 'Predicted', yPred[0, i])"
   ]
  },
  {
   "cell_type": "markdown",
   "metadata": {},
   "source": [
    "### Compare LSTM to Bidirectional LSTM"
   ]
  },
  {
   "cell_type": "code",
   "execution_count": null,
   "metadata": {},
   "outputs": [],
   "source": [
    "def get_lstm_model(n, backwards):\n",
    "    model = Sequential()\n",
    "    model.add(LSTM(20, input_shape=(n, 1), return_sequences=True, go_backwards=backwards))\n",
    "    model.add(TimeDistributed(Dense(1, activation='sigmoid')))\n",
    "    model.compile(loss='binary_crossentropy', optimizer='adam')\n",
    "    return model\n",
    "\n",
    "def get_bi_lstm_model(n, mode):\n",
    "    model = Sequential()\n",
    "    model.add(Bidirectional(LSTM(20, return_sequences=True), input_shape=(n, 1), merge_mode=mode))\n",
    "    model.add(TimeDistributed(Dense(1, activation='sigmoid')))\n",
    "    model.compile(loss='binary_crossentropy', optimizer='adam')\n",
    "    return model\n",
    "\n",
    "def train_model(model, n):\n",
    "    loss = list()\n",
    "    for _ in range(250):\n",
    "        X,y = get_sequence(n)\n",
    "        hist = model.fit(X, y, epochs=1, batch_size=1, verbose=0)\n",
    "        loss.append(hist.history['loss'][0])\n",
    "    return loss\n",
    "\n",
    "\n",
    "n = 10\n",
    "results = DataFrame()\n",
    "\n",
    "# lstm forwards\n",
    "model = get_lstm_model(n, False)\n",
    "results['lstm_forw'] = train_model(model, n)\n",
    "\n",
    "# lstm backwards\n",
    "model = get_lstm_model(n, True)\n",
    "results['lstm_back'] = train_model(model, n)\n",
    "\n",
    "# bidirectional concat\n",
    "model = get_bi_lstm_model(n, 'concat')\n",
    "results['bilstm_con'] = train_model(model, n)\n",
    "\n",
    "# line plot of results\n",
    "results.plot()"
   ]
  },
  {
   "cell_type": "markdown",
   "metadata": {},
   "source": [
    "### Comparing Bidirectional LSTM Merge Modes"
   ]
  },
  {
   "cell_type": "code",
   "execution_count": null,
   "metadata": {},
   "outputs": [],
   "source": [
    "n=10\n",
    "results = DataFrame()\n",
    "\n",
    "# sum merge\n",
    "model = get_bi_lstm_model(n, 'sum')\n",
    "results['bilstm_sum'] = train_model(model, n)\n",
    "\n",
    "# mul merge\n",
    "model = get_bi_lstm_model(n, 'mul')\n",
    "results['bilstm_mul'] = train_model(model, n)\n",
    "\n",
    "# avg merge\n",
    "model = get_bi_lstm_model(n, 'ave')\n",
    "results['bilstm_ave'] = train_model(model, n)\n",
    "\n",
    "# concat merge\n",
    "model = get_bi_lstm_model(n, 'concat')\n",
    "results['bilstm_con'] = train_model(model, n)\n",
    "\n",
    "# line plot of results\n",
    "results.plot()"
   ]
  },
  {
   "cell_type": "code",
   "execution_count": null,
   "metadata": {},
   "outputs": [],
   "source": []
  }
 ],
 "metadata": {
  "kernelspec": {
   "display_name": "Python 3",
   "language": "python",
   "name": "python3"
  },
  "language_info": {
   "codemirror_mode": {
    "name": "ipython",
    "version": 3
   },
   "file_extension": ".py",
   "mimetype": "text/x-python",
   "name": "python",
   "nbconvert_exporter": "python",
   "pygments_lexer": "ipython3",
   "version": "3.6.6"
  }
 },
 "nbformat": 4,
 "nbformat_minor": 4
}
