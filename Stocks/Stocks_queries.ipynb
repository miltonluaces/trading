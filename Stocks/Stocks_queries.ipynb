{
 "cells": [
  {
   "cell_type": "code",
   "execution_count": 4,
   "metadata": {},
   "outputs": [],
   "source": [
    "from yahoo_finance import Share\n",
    "import yahoo_fin.stock_info as si"
   ]
  },
  {
   "cell_type": "code",
   "execution_count": 10,
   "metadata": {},
   "outputs": [
    {
     "data": {
      "text/plain": [
       "{'Earnings Estimate':   Earnings Estimate  Current Qtr. (Dec 2020)  Next Qtr. (Mar 2021)  \\\n",
       " 0   No. of Analysts                    28.00                 27.00   \n",
       " 1     Avg. Estimate                     1.39                  0.86   \n",
       " 2      Low Estimate                     1.23                  0.70   \n",
       " 3     High Estimate                     1.58                  1.00   \n",
       " 4      Year Ago EPS                     1.25                  0.64   \n",
       " \n",
       "    Current Year (2021)  Next Year (2022)  \n",
       " 0                35.00             32.00  \n",
       " 1                 3.95              4.30  \n",
       " 2                 3.41              3.55  \n",
       " 3                 4.45              4.81  \n",
       " 4                 3.28              3.95  ,\n",
       " 'Revenue Estimate':           Revenue Estimate Current Qtr. (Dec 2020) Next Qtr. (Mar 2021)  \\\n",
       " 0          No. of Analysts                      25                   25   \n",
       " 1            Avg. Estimate                 101.88B                72.3B   \n",
       " 2             Low Estimate                  97.74B               62.14B   \n",
       " 3            High Estimate                 110.88B                80.9B   \n",
       " 4           Year Ago Sales                   88.5B               58.31B   \n",
       " 5  Sales Growth (year/est)                  15.10%               24.00%   \n",
       " \n",
       "   Current Year (2021) Next Year (2022)  \n",
       " 0                  32               29  \n",
       " 1             314.24B          329.76B  \n",
       " 2             284.31B           291.5B  \n",
       " 3             341.13B          354.29B  \n",
       " 4             274.51B          314.24B  \n",
       " 5              14.50%            4.90%  ,\n",
       " 'Earnings History':   Earnings History 12/30/2019 3/30/2020 6/29/2020 9/29/2020\n",
       " 0         EPS Est.       1.14      0.56      0.51       0.7\n",
       " 1       EPS Actual       1.25      0.64      0.64      0.73\n",
       " 2       Difference       0.11      0.08      0.13      0.03\n",
       " 3       Surprise %      9.60%    14.30%    25.50%     4.30%,\n",
       " 'EPS Trend':           EPS Trend  Current Qtr. (Dec 2020)  Next Qtr. (Mar 2021)  \\\n",
       " 0  Current Estimate                     1.39                  0.86   \n",
       " 1        7 Days Ago                     1.39                  0.86   \n",
       " 2       30 Days Ago                     1.36                  0.83   \n",
       " 3       60 Days Ago                     1.36                  0.84   \n",
       " 4       90 Days Ago                     5.44                  3.37   \n",
       " \n",
       "    Current Year (2021)  Next Year (2022)  \n",
       " 0                 3.95              4.30  \n",
       " 1                 3.95              4.30  \n",
       " 2                 3.87              4.23  \n",
       " 3                 3.87              4.22  \n",
       " 4                15.54             16.81  ,\n",
       " 'EPS Revisions':        EPS Revisions  Current Qtr. (Dec 2020)  Next Qtr. (Mar 2021)  \\\n",
       " 0     Up Last 7 Days                     13.0                   2.0   \n",
       " 1    Up Last 30 Days                     14.0                  17.0   \n",
       " 2   Down Last 7 Days                      NaN                   NaN   \n",
       " 3  Down Last 30 Days                     10.0                   NaN   \n",
       " \n",
       "    Current Year (2021)  Next Year (2022)  \n",
       " 0                  1.0               NaN  \n",
       " 1                 18.0               9.0  \n",
       " 2                  NaN               NaN  \n",
       " 3                  NaN               NaN  ,\n",
       " 'Growth Estimates':            Growth Estimates    AAPL  Industry  Sector(s)  S&P 500\n",
       " 0              Current Qtr.  11.20%       NaN        NaN      NaN\n",
       " 1                 Next Qtr.  34.40%       NaN        NaN      NaN\n",
       " 2              Current Year  20.40%       NaN        NaN      NaN\n",
       " 3                 Next Year   8.90%       NaN        NaN      NaN\n",
       " 4  Next 5 Years (per annum)  12.64%       NaN        NaN      NaN\n",
       " 5  Past 5 Years (per annum)   8.42%       NaN        NaN      NaN}"
      ]
     },
     "execution_count": 10,
     "metadata": {},
     "output_type": "execute_result"
    }
   ],
   "source": [
    "si.get_analysts_info('AAPL')"
   ]
  },
  {
   "cell_type": "code",
   "execution_count": null,
   "metadata": {},
   "outputs": [],
   "source": []
  }
 ],
 "metadata": {
  "kernelspec": {
   "display_name": "Python 3.8.1 64-bit",
   "language": "python",
   "name": "python38164bitc33de82c9da04edea88eb124459bf44a"
  },
  "language_info": {
   "codemirror_mode": {
    "name": "ipython",
    "version": 3
   },
   "file_extension": ".py",
   "mimetype": "text/x-python",
   "name": "python",
   "nbconvert_exporter": "python",
   "pygments_lexer": "ipython3",
   "version": "3.8.6"
  }
 },
 "nbformat": 4,
 "nbformat_minor": 4
}
